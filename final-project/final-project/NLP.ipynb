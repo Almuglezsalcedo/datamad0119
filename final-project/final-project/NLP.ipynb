{
 "cells": [
  {
   "cell_type": "code",
   "execution_count": 1,
   "metadata": {},
   "outputs": [],
   "source": [
    "import pandas as pd\n",
    "import re\n",
    "import nltk\n",
    "from rake_nltk import Rake"
   ]
  },
  {
   "cell_type": "code",
   "execution_count": 2,
   "metadata": {},
   "outputs": [],
   "source": [
    "df=pd.read_csv('./zara_dresses.csv')"
   ]
  },
  {
   "cell_type": "code",
   "execution_count": 3,
   "metadata": {
    "scrolled": true
   },
   "outputs": [
    {
     "data": {
      "text/html": [
       "<div>\n",
       "<style scoped>\n",
       "    .dataframe tbody tr th:only-of-type {\n",
       "        vertical-align: middle;\n",
       "    }\n",
       "\n",
       "    .dataframe tbody tr th {\n",
       "        vertical-align: top;\n",
       "    }\n",
       "\n",
       "    .dataframe thead th {\n",
       "        text-align: right;\n",
       "    }\n",
       "</style>\n",
       "<table border=\"1\" class=\"dataframe\">\n",
       "  <thead>\n",
       "    <tr style=\"text-align: right;\">\n",
       "      <th></th>\n",
       "      <th>0</th>\n",
       "      <th>1</th>\n",
       "      <th>2</th>\n",
       "      <th>3</th>\n",
       "      <th>4</th>\n",
       "      <th>5</th>\n",
       "      <th>6</th>\n",
       "    </tr>\n",
       "  </thead>\n",
       "  <tbody>\n",
       "    <tr>\n",
       "      <th>0</th>\n",
       "      <td>POLKA DOT TULLE DRESS Details</td>\n",
       "      <td>Semi-sheer collared dress with long sleeves an...</td>\n",
       "      <td>Ecru</td>\n",
       "      <td>4437/069</td>\n",
       "      <td>39.99</td>\n",
       "      <td>[]</td>\n",
       "      <td>static.zara.net/photos///2019/V/0/1/p/4437/069...</td>\n",
       "    </tr>\n",
       "    <tr>\n",
       "      <th>1</th>\n",
       "      <td>LACE DRESS Details</td>\n",
       "      <td>Short sleeve dress with a shirt collar. Featur...</td>\n",
       "      <td>White</td>\n",
       "      <td>1639/056</td>\n",
       "      <td>39.99</td>\n",
       "      <td>['XS', 'S', 'M']</td>\n",
       "      <td>static.zara.net/photos///2019/V/0/1/p/1639/056...</td>\n",
       "    </tr>\n",
       "    <tr>\n",
       "      <th>2</th>\n",
       "      <td>LONG POLKA DOT DRESS Details</td>\n",
       "      <td>Collared dress with long sleeves. Featuring an...</td>\n",
       "      <td>Off-white</td>\n",
       "      <td>3440/055</td>\n",
       "      <td>29.99</td>\n",
       "      <td>['XS', 'S', 'M', 'L', 'XL', 'XXL']</td>\n",
       "      <td>static.zara.net/photos///2019/V/0/1/p/3440/055...</td>\n",
       "    </tr>\n",
       "    <tr>\n",
       "      <th>3</th>\n",
       "      <td>DRESS WITH MATCHING EMBROIDERY Details</td>\n",
       "      <td>V-neck dress with sleeves falling below the el...</td>\n",
       "      <td>White</td>\n",
       "      <td>1821/021</td>\n",
       "      <td>25.99</td>\n",
       "      <td>['XS', 'S', 'M', 'L']</td>\n",
       "      <td>static.zara.net/photos///2019/V/0/1/p/1821/021...</td>\n",
       "    </tr>\n",
       "    <tr>\n",
       "      <th>4</th>\n",
       "      <td>EMBROIDERED LACE DRESS Details</td>\n",
       "      <td>Round neck dress with sleeves reaching below t...</td>\n",
       "      <td>Ecru</td>\n",
       "      <td>5770/022</td>\n",
       "      <td>29.99</td>\n",
       "      <td>['XS', 'S', 'M', 'L']</td>\n",
       "      <td>static.zara.net/photos///2019/V/0/1/p/5770/022...</td>\n",
       "    </tr>\n",
       "  </tbody>\n",
       "</table>\n",
       "</div>"
      ],
      "text/plain": [
       "                                        0  \\\n",
       "0           POLKA DOT TULLE DRESS Details   \n",
       "1                      LACE DRESS Details   \n",
       "2            LONG POLKA DOT DRESS Details   \n",
       "3  DRESS WITH MATCHING EMBROIDERY Details   \n",
       "4          EMBROIDERED LACE DRESS Details   \n",
       "\n",
       "                                                   1          2         3  \\\n",
       "0  Semi-sheer collared dress with long sleeves an...       Ecru  4437/069   \n",
       "1  Short sleeve dress with a shirt collar. Featur...      White  1639/056   \n",
       "2  Collared dress with long sleeves. Featuring an...  Off-white  3440/055   \n",
       "3  V-neck dress with sleeves falling below the el...      White  1821/021   \n",
       "4  Round neck dress with sleeves reaching below t...       Ecru  5770/022   \n",
       "\n",
       "       4                                   5  \\\n",
       "0  39.99                                  []   \n",
       "1  39.99                    ['XS', 'S', 'M']   \n",
       "2  29.99  ['XS', 'S', 'M', 'L', 'XL', 'XXL']   \n",
       "3  25.99               ['XS', 'S', 'M', 'L']   \n",
       "4  29.99               ['XS', 'S', 'M', 'L']   \n",
       "\n",
       "                                                   6  \n",
       "0  static.zara.net/photos///2019/V/0/1/p/4437/069...  \n",
       "1  static.zara.net/photos///2019/V/0/1/p/1639/056...  \n",
       "2  static.zara.net/photos///2019/V/0/1/p/3440/055...  \n",
       "3  static.zara.net/photos///2019/V/0/1/p/1821/021...  \n",
       "4  static.zara.net/photos///2019/V/0/1/p/5770/022...  "
      ]
     },
     "execution_count": 3,
     "metadata": {},
     "output_type": "execute_result"
    }
   ],
   "source": [
    "df.head()"
   ]
  },
  {
   "cell_type": "code",
   "execution_count": 4,
   "metadata": {},
   "outputs": [
    {
     "data": {
      "text/plain": [
       "(634, 7)"
      ]
     },
     "execution_count": 4,
     "metadata": {},
     "output_type": "execute_result"
    }
   ],
   "source": [
    "df.shape"
   ]
  },
  {
   "cell_type": "code",
   "execution_count": 5,
   "metadata": {},
   "outputs": [
    {
     "data": {
      "text/plain": [
       "0    4\n",
       "1    4\n",
       "2    4\n",
       "3    4\n",
       "4    4\n",
       "5    4\n",
       "6    4\n",
       "dtype: int64"
      ]
     },
     "execution_count": 5,
     "metadata": {},
     "output_type": "execute_result"
    }
   ],
   "source": [
    "df.isnull().sum()"
   ]
  },
  {
   "cell_type": "code",
   "execution_count": 6,
   "metadata": {},
   "outputs": [
    {
     "data": {
      "text/html": [
       "<div>\n",
       "<style scoped>\n",
       "    .dataframe tbody tr th:only-of-type {\n",
       "        vertical-align: middle;\n",
       "    }\n",
       "\n",
       "    .dataframe tbody tr th {\n",
       "        vertical-align: top;\n",
       "    }\n",
       "\n",
       "    .dataframe thead th {\n",
       "        text-align: right;\n",
       "    }\n",
       "</style>\n",
       "<table border=\"1\" class=\"dataframe\">\n",
       "  <thead>\n",
       "    <tr style=\"text-align: right;\">\n",
       "      <th></th>\n",
       "      <th>0</th>\n",
       "      <th>1</th>\n",
       "      <th>2</th>\n",
       "      <th>3</th>\n",
       "      <th>4</th>\n",
       "      <th>5</th>\n",
       "      <th>6</th>\n",
       "    </tr>\n",
       "  </thead>\n",
       "  <tbody>\n",
       "    <tr>\n",
       "      <th>427</th>\n",
       "      <td>NaN</td>\n",
       "      <td>NaN</td>\n",
       "      <td>NaN</td>\n",
       "      <td>NaN</td>\n",
       "      <td>NaN</td>\n",
       "      <td>NaN</td>\n",
       "      <td>NaN</td>\n",
       "    </tr>\n",
       "    <tr>\n",
       "      <th>440</th>\n",
       "      <td>NaN</td>\n",
       "      <td>NaN</td>\n",
       "      <td>NaN</td>\n",
       "      <td>NaN</td>\n",
       "      <td>NaN</td>\n",
       "      <td>NaN</td>\n",
       "      <td>NaN</td>\n",
       "    </tr>\n",
       "    <tr>\n",
       "      <th>441</th>\n",
       "      <td>NaN</td>\n",
       "      <td>NaN</td>\n",
       "      <td>NaN</td>\n",
       "      <td>NaN</td>\n",
       "      <td>NaN</td>\n",
       "      <td>NaN</td>\n",
       "      <td>NaN</td>\n",
       "    </tr>\n",
       "    <tr>\n",
       "      <th>475</th>\n",
       "      <td>NaN</td>\n",
       "      <td>NaN</td>\n",
       "      <td>NaN</td>\n",
       "      <td>NaN</td>\n",
       "      <td>NaN</td>\n",
       "      <td>NaN</td>\n",
       "      <td>NaN</td>\n",
       "    </tr>\n",
       "  </tbody>\n",
       "</table>\n",
       "</div>"
      ],
      "text/plain": [
       "       0    1    2    3   4    5    6\n",
       "427  NaN  NaN  NaN  NaN NaN  NaN  NaN\n",
       "440  NaN  NaN  NaN  NaN NaN  NaN  NaN\n",
       "441  NaN  NaN  NaN  NaN NaN  NaN  NaN\n",
       "475  NaN  NaN  NaN  NaN NaN  NaN  NaN"
      ]
     },
     "execution_count": 6,
     "metadata": {},
     "output_type": "execute_result"
    }
   ],
   "source": [
    "# which rows contain missing values\n",
    "nans = lambda df: df[df.isnull().any(axis=1)]\n",
    "nans(df)"
   ]
  },
  {
   "cell_type": "code",
   "execution_count": 7,
   "metadata": {},
   "outputs": [],
   "source": [
    "df.dropna(inplace=True)"
   ]
  },
  {
   "cell_type": "code",
   "execution_count": 8,
   "metadata": {},
   "outputs": [
    {
     "name": "stdout",
     "output_type": "stream",
     "text": [
      "(630, 7)\n"
     ]
    },
    {
     "data": {
      "text/plain": [
       "0    0\n",
       "1    0\n",
       "2    0\n",
       "3    0\n",
       "4    0\n",
       "5    0\n",
       "6    0\n",
       "dtype: int64"
      ]
     },
     "execution_count": 8,
     "metadata": {},
     "output_type": "execute_result"
    }
   ],
   "source": [
    "print(df.shape)\n",
    "df.isnull().sum()"
   ]
  },
  {
   "cell_type": "code",
   "execution_count": 9,
   "metadata": {},
   "outputs": [],
   "source": [
    "#remove \"details\" word from column 0. Do not give us any information\n",
    "df[\"0\"]=df[\"0\"].str.replace(\"Details\",\"\")"
   ]
  },
  {
   "cell_type": "code",
   "execution_count": 10,
   "metadata": {},
   "outputs": [],
   "source": [
    "# create a function to remove words \n",
    "\n",
    "def remove_words(word,sentence):\n",
    "    return sentence.split(word)[0]"
   ]
  },
  {
   "cell_type": "code",
   "execution_count": 11,
   "metadata": {},
   "outputs": [],
   "source": [
    "# remove the heigh of the model from the description. Do not give us any information\n",
    "\n",
    "df[\"1\"]=df[\"1\"].apply(lambda x:remove_words('MODEL HEIGHT',x))\n",
    "df[\"1\"]=df[\"1\"].apply(lambda x:remove_words('HEIGHT OF MODEL',x))\n"
   ]
  },
  {
   "cell_type": "code",
   "execution_count": 12,
   "metadata": {},
   "outputs": [
    {
     "data": {
      "text/plain": [
       "'\\ndef make_clickable(val):\\n    return \\'<a href=\"{}\">{}</a>\\'.format(val,val)\\n\\ndf.style.format({\\'6\\': make_clickable})\\n# df.style.apply(highlight_max, subset=[\\'B\\', \\'C\\', \\'D\\'])\\n\\n# df[\\'6\\'] = df.apply(lambda x: make_clickable(df[\\'6\\']))\\n'"
      ]
     },
     "execution_count": 12,
     "metadata": {},
     "output_type": "execute_result"
    }
   ],
   "source": [
    "# Make URL clickable\n",
    "\n",
    "'''\n",
    "def make_clickable(val):\n",
    "    return '<a href=\"{}\">{}</a>'.format(val,val)\n",
    "\n",
    "df.style.format({'6': make_clickable})\n",
    "# df.style.apply(highlight_max, subset=['B', 'C', 'D'])\n",
    "\n",
    "# df['6'] = df.apply(lambda x: make_clickable(df['6']))\n",
    "'''\n"
   ]
  },
  {
   "cell_type": "code",
   "execution_count": 13,
   "metadata": {},
   "outputs": [
    {
     "data": {
      "text/html": [
       "<div>\n",
       "<style scoped>\n",
       "    .dataframe tbody tr th:only-of-type {\n",
       "        vertical-align: middle;\n",
       "    }\n",
       "\n",
       "    .dataframe tbody tr th {\n",
       "        vertical-align: top;\n",
       "    }\n",
       "\n",
       "    .dataframe thead th {\n",
       "        text-align: right;\n",
       "    }\n",
       "</style>\n",
       "<table border=\"1\" class=\"dataframe\">\n",
       "  <thead>\n",
       "    <tr style=\"text-align: right;\">\n",
       "      <th></th>\n",
       "      <th>0</th>\n",
       "      <th>1</th>\n",
       "      <th>2</th>\n",
       "      <th>3</th>\n",
       "      <th>4</th>\n",
       "      <th>5</th>\n",
       "      <th>6</th>\n",
       "    </tr>\n",
       "  </thead>\n",
       "  <tbody>\n",
       "    <tr>\n",
       "      <th>0</th>\n",
       "      <td>POLKA DOT TULLE DRESS</td>\n",
       "      <td>Semi-sheer collared dress with long sleeves an...</td>\n",
       "      <td>Ecru</td>\n",
       "      <td>4437/069</td>\n",
       "      <td>39.99</td>\n",
       "      <td>[]</td>\n",
       "      <td>static.zara.net/photos///2019/V/0/1/p/4437/069...</td>\n",
       "    </tr>\n",
       "    <tr>\n",
       "      <th>1</th>\n",
       "      <td>LACE DRESS</td>\n",
       "      <td>Short sleeve dress with a shirt collar. Featur...</td>\n",
       "      <td>White</td>\n",
       "      <td>1639/056</td>\n",
       "      <td>39.99</td>\n",
       "      <td>['XS', 'S', 'M']</td>\n",
       "      <td>static.zara.net/photos///2019/V/0/1/p/1639/056...</td>\n",
       "    </tr>\n",
       "    <tr>\n",
       "      <th>2</th>\n",
       "      <td>LONG POLKA DOT DRESS</td>\n",
       "      <td>Collared dress with long sleeves. Featuring an...</td>\n",
       "      <td>Off-white</td>\n",
       "      <td>3440/055</td>\n",
       "      <td>29.99</td>\n",
       "      <td>['XS', 'S', 'M', 'L', 'XL', 'XXL']</td>\n",
       "      <td>static.zara.net/photos///2019/V/0/1/p/3440/055...</td>\n",
       "    </tr>\n",
       "    <tr>\n",
       "      <th>3</th>\n",
       "      <td>DRESS WITH MATCHING EMBROIDERY</td>\n",
       "      <td>V-neck dress with sleeves falling below the el...</td>\n",
       "      <td>White</td>\n",
       "      <td>1821/021</td>\n",
       "      <td>25.99</td>\n",
       "      <td>['XS', 'S', 'M', 'L']</td>\n",
       "      <td>static.zara.net/photos///2019/V/0/1/p/1821/021...</td>\n",
       "    </tr>\n",
       "    <tr>\n",
       "      <th>4</th>\n",
       "      <td>EMBROIDERED LACE DRESS</td>\n",
       "      <td>Round neck dress with sleeves reaching below t...</td>\n",
       "      <td>Ecru</td>\n",
       "      <td>5770/022</td>\n",
       "      <td>29.99</td>\n",
       "      <td>['XS', 'S', 'M', 'L']</td>\n",
       "      <td>static.zara.net/photos///2019/V/0/1/p/5770/022...</td>\n",
       "    </tr>\n",
       "  </tbody>\n",
       "</table>\n",
       "</div>"
      ],
      "text/plain": [
       "                                 0  \\\n",
       "0           POLKA DOT TULLE DRESS    \n",
       "1                      LACE DRESS    \n",
       "2            LONG POLKA DOT DRESS    \n",
       "3  DRESS WITH MATCHING EMBROIDERY    \n",
       "4          EMBROIDERED LACE DRESS    \n",
       "\n",
       "                                                   1          2         3  \\\n",
       "0  Semi-sheer collared dress with long sleeves an...       Ecru  4437/069   \n",
       "1  Short sleeve dress with a shirt collar. Featur...      White  1639/056   \n",
       "2  Collared dress with long sleeves. Featuring an...  Off-white  3440/055   \n",
       "3  V-neck dress with sleeves falling below the el...      White  1821/021   \n",
       "4  Round neck dress with sleeves reaching below t...       Ecru  5770/022   \n",
       "\n",
       "       4                                   5  \\\n",
       "0  39.99                                  []   \n",
       "1  39.99                    ['XS', 'S', 'M']   \n",
       "2  29.99  ['XS', 'S', 'M', 'L', 'XL', 'XXL']   \n",
       "3  25.99               ['XS', 'S', 'M', 'L']   \n",
       "4  29.99               ['XS', 'S', 'M', 'L']   \n",
       "\n",
       "                                                   6  \n",
       "0  static.zara.net/photos///2019/V/0/1/p/4437/069...  \n",
       "1  static.zara.net/photos///2019/V/0/1/p/1639/056...  \n",
       "2  static.zara.net/photos///2019/V/0/1/p/3440/055...  \n",
       "3  static.zara.net/photos///2019/V/0/1/p/1821/021...  \n",
       "4  static.zara.net/photos///2019/V/0/1/p/5770/022...  "
      ]
     },
     "execution_count": 13,
     "metadata": {},
     "output_type": "execute_result"
    }
   ],
   "source": [
    "df.head()"
   ]
  },
  {
   "cell_type": "code",
   "execution_count": 14,
   "metadata": {},
   "outputs": [],
   "source": [
    "#rename columns\n",
    "df.rename(columns={'0':'item','1':'description','2':'color','3':'reference','4':'price','5':'available_sizes','6':'image'},inplace=True)"
   ]
  },
  {
   "cell_type": "code",
   "execution_count": 15,
   "metadata": {},
   "outputs": [
    {
     "data": {
      "text/html": [
       "<div>\n",
       "<style scoped>\n",
       "    .dataframe tbody tr th:only-of-type {\n",
       "        vertical-align: middle;\n",
       "    }\n",
       "\n",
       "    .dataframe tbody tr th {\n",
       "        vertical-align: top;\n",
       "    }\n",
       "\n",
       "    .dataframe thead th {\n",
       "        text-align: right;\n",
       "    }\n",
       "</style>\n",
       "<table border=\"1\" class=\"dataframe\">\n",
       "  <thead>\n",
       "    <tr style=\"text-align: right;\">\n",
       "      <th></th>\n",
       "      <th>item</th>\n",
       "      <th>description</th>\n",
       "      <th>color</th>\n",
       "      <th>reference</th>\n",
       "      <th>price</th>\n",
       "      <th>available_sizes</th>\n",
       "      <th>image</th>\n",
       "    </tr>\n",
       "  </thead>\n",
       "  <tbody>\n",
       "    <tr>\n",
       "      <th>0</th>\n",
       "      <td>POLKA DOT TULLE DRESS</td>\n",
       "      <td>Semi-sheer collared dress with long sleeves an...</td>\n",
       "      <td>Ecru</td>\n",
       "      <td>4437/069</td>\n",
       "      <td>39.99</td>\n",
       "      <td>[]</td>\n",
       "      <td>static.zara.net/photos///2019/V/0/1/p/4437/069...</td>\n",
       "    </tr>\n",
       "    <tr>\n",
       "      <th>1</th>\n",
       "      <td>LACE DRESS</td>\n",
       "      <td>Short sleeve dress with a shirt collar. Featur...</td>\n",
       "      <td>White</td>\n",
       "      <td>1639/056</td>\n",
       "      <td>39.99</td>\n",
       "      <td>['XS', 'S', 'M']</td>\n",
       "      <td>static.zara.net/photos///2019/V/0/1/p/1639/056...</td>\n",
       "    </tr>\n",
       "    <tr>\n",
       "      <th>2</th>\n",
       "      <td>LONG POLKA DOT DRESS</td>\n",
       "      <td>Collared dress with long sleeves. Featuring an...</td>\n",
       "      <td>Off-white</td>\n",
       "      <td>3440/055</td>\n",
       "      <td>29.99</td>\n",
       "      <td>['XS', 'S', 'M', 'L', 'XL', 'XXL']</td>\n",
       "      <td>static.zara.net/photos///2019/V/0/1/p/3440/055...</td>\n",
       "    </tr>\n",
       "    <tr>\n",
       "      <th>3</th>\n",
       "      <td>DRESS WITH MATCHING EMBROIDERY</td>\n",
       "      <td>V-neck dress with sleeves falling below the el...</td>\n",
       "      <td>White</td>\n",
       "      <td>1821/021</td>\n",
       "      <td>25.99</td>\n",
       "      <td>['XS', 'S', 'M', 'L']</td>\n",
       "      <td>static.zara.net/photos///2019/V/0/1/p/1821/021...</td>\n",
       "    </tr>\n",
       "    <tr>\n",
       "      <th>4</th>\n",
       "      <td>EMBROIDERED LACE DRESS</td>\n",
       "      <td>Round neck dress with sleeves reaching below t...</td>\n",
       "      <td>Ecru</td>\n",
       "      <td>5770/022</td>\n",
       "      <td>29.99</td>\n",
       "      <td>['XS', 'S', 'M', 'L']</td>\n",
       "      <td>static.zara.net/photos///2019/V/0/1/p/5770/022...</td>\n",
       "    </tr>\n",
       "  </tbody>\n",
       "</table>\n",
       "</div>"
      ],
      "text/plain": [
       "                              item  \\\n",
       "0           POLKA DOT TULLE DRESS    \n",
       "1                      LACE DRESS    \n",
       "2            LONG POLKA DOT DRESS    \n",
       "3  DRESS WITH MATCHING EMBROIDERY    \n",
       "4          EMBROIDERED LACE DRESS    \n",
       "\n",
       "                                         description      color reference  \\\n",
       "0  Semi-sheer collared dress with long sleeves an...       Ecru  4437/069   \n",
       "1  Short sleeve dress with a shirt collar. Featur...      White  1639/056   \n",
       "2  Collared dress with long sleeves. Featuring an...  Off-white  3440/055   \n",
       "3  V-neck dress with sleeves falling below the el...      White  1821/021   \n",
       "4  Round neck dress with sleeves reaching below t...       Ecru  5770/022   \n",
       "\n",
       "   price                     available_sizes  \\\n",
       "0  39.99                                  []   \n",
       "1  39.99                    ['XS', 'S', 'M']   \n",
       "2  29.99  ['XS', 'S', 'M', 'L', 'XL', 'XXL']   \n",
       "3  25.99               ['XS', 'S', 'M', 'L']   \n",
       "4  29.99               ['XS', 'S', 'M', 'L']   \n",
       "\n",
       "                                               image  \n",
       "0  static.zara.net/photos///2019/V/0/1/p/4437/069...  \n",
       "1  static.zara.net/photos///2019/V/0/1/p/1639/056...  \n",
       "2  static.zara.net/photos///2019/V/0/1/p/3440/055...  \n",
       "3  static.zara.net/photos///2019/V/0/1/p/1821/021...  \n",
       "4  static.zara.net/photos///2019/V/0/1/p/5770/022...  "
      ]
     },
     "execution_count": 15,
     "metadata": {},
     "output_type": "execute_result"
    }
   ],
   "source": [
    "df.head()"
   ]
  },
  {
   "cell_type": "code",
   "execution_count": 16,
   "metadata": {},
   "outputs": [],
   "source": [
    "#create column with all words from descritption and title item\n",
    "\n",
    "df['key_words']=df.item+df.description"
   ]
  },
  {
   "cell_type": "code",
   "execution_count": 17,
   "metadata": {},
   "outputs": [
    {
     "name": "stderr",
     "output_type": "stream",
     "text": [
      "[nltk_data] Downloading package wordnet to /Users/almu/nltk_data...\n",
      "[nltk_data]   Package wordnet is already up-to-date!\n",
      "[nltk_data] Error loading stem: Package 'stem' not found in index\n"
     ]
    }
   ],
   "source": [
    "#create column with key words\n",
    "\n",
    "nltk.download('wordnet')\n",
    "nltk.download('stem')\n",
    "from nltk.stem import WordNetLemmatizer\n",
    "from nltk import stem\n",
    "from nltk import sent_tokenize, word_tokenize\n",
    "from stop_words import get_stop_words\n",
    "\n",
    "def clean_up(s):\n",
    "    lines = s.lower().split(\" \")\n",
    "    lines = [re.sub(r'\\d', ' ', line) for line in lines]\n",
    "    lines = [re.sub(r'\\W', ' ', line) for line in lines]\n",
    "    \n",
    "    return \" \".join(lines)\n",
    "\n",
    "def tokenize(s):\n",
    "    return word_tokenize(s)\n",
    "\n",
    "def stem_and_lemmatize(l):\n",
    "    lemmatizer = WordNetLemmatizer()\n",
    "    stemmer = stem.PorterStemmer()\n",
    "    stem_phrase=[stemmer.stem(x) for x in l]\n",
    "    stem_and_lemmatize_phrase = [lemmatizer.lemmatize(x)  for x in stem_phrase] \n",
    "    return stem_and_lemmatize_phrase\n",
    "\n",
    "def remove_stopwords(w):\n",
    "    stop_words = get_stop_words('en')\n",
    "    [w.remove(i) for i in w if i in stop_words]\n",
    "    return w\n",
    "\n",
    "def clean_f(x): \n",
    "    functions = [clean_up, tokenize, stem_and_lemmatize, remove_stopwords]\n",
    "    for f in functions: \n",
    "        x = f(x)\n",
    "    return x\n",
    "\n",
    "df['text_processed']=df.key_words.apply(clean_f)\n",
    "df.drop('key_words',axis=1,inplace=True)\n",
    "\n",
    "\n"
   ]
  },
  {
   "cell_type": "code",
   "execution_count": 18,
   "metadata": {},
   "outputs": [],
   "source": [
    "df['text_processed']=df['text_processed'].apply(', '.join)"
   ]
  },
  {
   "cell_type": "code",
   "execution_count": 19,
   "metadata": {},
   "outputs": [
    {
     "data": {
      "text/html": [
       "<div>\n",
       "<style scoped>\n",
       "    .dataframe tbody tr th:only-of-type {\n",
       "        vertical-align: middle;\n",
       "    }\n",
       "\n",
       "    .dataframe tbody tr th {\n",
       "        vertical-align: top;\n",
       "    }\n",
       "\n",
       "    .dataframe thead th {\n",
       "        text-align: right;\n",
       "    }\n",
       "</style>\n",
       "<table border=\"1\" class=\"dataframe\">\n",
       "  <thead>\n",
       "    <tr style=\"text-align: right;\">\n",
       "      <th></th>\n",
       "      <th>item</th>\n",
       "      <th>description</th>\n",
       "      <th>color</th>\n",
       "      <th>reference</th>\n",
       "      <th>price</th>\n",
       "      <th>available_sizes</th>\n",
       "      <th>image</th>\n",
       "      <th>text_processed</th>\n",
       "    </tr>\n",
       "  </thead>\n",
       "  <tbody>\n",
       "    <tr>\n",
       "      <th>0</th>\n",
       "      <td>POLKA DOT TULLE DRESS</td>\n",
       "      <td>Semi-sheer collared dress with long sleeves an...</td>\n",
       "      <td>Ecru</td>\n",
       "      <td>4437/069</td>\n",
       "      <td>39.99</td>\n",
       "      <td>[]</td>\n",
       "      <td>static.zara.net/photos///2019/V/0/1/p/4437/069...</td>\n",
       "      <td>polka, dot, tull, dress, semi, sheer, collar, ...</td>\n",
       "    </tr>\n",
       "    <tr>\n",
       "      <th>1</th>\n",
       "      <td>LACE DRESS</td>\n",
       "      <td>Short sleeve dress with a shirt collar. Featur...</td>\n",
       "      <td>White</td>\n",
       "      <td>1639/056</td>\n",
       "      <td>39.99</td>\n",
       "      <td>['XS', 'S', 'M']</td>\n",
       "      <td>static.zara.net/photos///2019/V/0/1/p/1639/056...</td>\n",
       "      <td>lace, dress, short, sleev, dress, a, shirt, co...</td>\n",
       "    </tr>\n",
       "    <tr>\n",
       "      <th>2</th>\n",
       "      <td>LONG POLKA DOT DRESS</td>\n",
       "      <td>Collared dress with long sleeves. Featuring an...</td>\n",
       "      <td>Off-white</td>\n",
       "      <td>3440/055</td>\n",
       "      <td>29.99</td>\n",
       "      <td>['XS', 'S', 'M', 'L', 'XL', 'XXL']</td>\n",
       "      <td>static.zara.net/photos///2019/V/0/1/p/3440/055...</td>\n",
       "      <td>long, polka, dot, dress, collar, dress, long, ...</td>\n",
       "    </tr>\n",
       "    <tr>\n",
       "      <th>3</th>\n",
       "      <td>DRESS WITH MATCHING EMBROIDERY</td>\n",
       "      <td>V-neck dress with sleeves falling below the el...</td>\n",
       "      <td>White</td>\n",
       "      <td>1821/021</td>\n",
       "      <td>25.99</td>\n",
       "      <td>['XS', 'S', 'M', 'L']</td>\n",
       "      <td>static.zara.net/photos///2019/V/0/1/p/1821/021...</td>\n",
       "      <td>dress, match, embroideri, v, neck, dress, slee...</td>\n",
       "    </tr>\n",
       "    <tr>\n",
       "      <th>4</th>\n",
       "      <td>EMBROIDERED LACE DRESS</td>\n",
       "      <td>Round neck dress with sleeves reaching below t...</td>\n",
       "      <td>Ecru</td>\n",
       "      <td>5770/022</td>\n",
       "      <td>29.99</td>\n",
       "      <td>['XS', 'S', 'M', 'L']</td>\n",
       "      <td>static.zara.net/photos///2019/V/0/1/p/5770/022...</td>\n",
       "      <td>embroid, lace, dress, round, neck, dress, slee...</td>\n",
       "    </tr>\n",
       "  </tbody>\n",
       "</table>\n",
       "</div>"
      ],
      "text/plain": [
       "                              item  \\\n",
       "0           POLKA DOT TULLE DRESS    \n",
       "1                      LACE DRESS    \n",
       "2            LONG POLKA DOT DRESS    \n",
       "3  DRESS WITH MATCHING EMBROIDERY    \n",
       "4          EMBROIDERED LACE DRESS    \n",
       "\n",
       "                                         description      color reference  \\\n",
       "0  Semi-sheer collared dress with long sleeves an...       Ecru  4437/069   \n",
       "1  Short sleeve dress with a shirt collar. Featur...      White  1639/056   \n",
       "2  Collared dress with long sleeves. Featuring an...  Off-white  3440/055   \n",
       "3  V-neck dress with sleeves falling below the el...      White  1821/021   \n",
       "4  Round neck dress with sleeves reaching below t...       Ecru  5770/022   \n",
       "\n",
       "   price                     available_sizes  \\\n",
       "0  39.99                                  []   \n",
       "1  39.99                    ['XS', 'S', 'M']   \n",
       "2  29.99  ['XS', 'S', 'M', 'L', 'XL', 'XXL']   \n",
       "3  25.99               ['XS', 'S', 'M', 'L']   \n",
       "4  29.99               ['XS', 'S', 'M', 'L']   \n",
       "\n",
       "                                               image  \\\n",
       "0  static.zara.net/photos///2019/V/0/1/p/4437/069...   \n",
       "1  static.zara.net/photos///2019/V/0/1/p/1639/056...   \n",
       "2  static.zara.net/photos///2019/V/0/1/p/3440/055...   \n",
       "3  static.zara.net/photos///2019/V/0/1/p/1821/021...   \n",
       "4  static.zara.net/photos///2019/V/0/1/p/5770/022...   \n",
       "\n",
       "                                      text_processed  \n",
       "0  polka, dot, tull, dress, semi, sheer, collar, ...  \n",
       "1  lace, dress, short, sleev, dress, a, shirt, co...  \n",
       "2  long, polka, dot, dress, collar, dress, long, ...  \n",
       "3  dress, match, embroideri, v, neck, dress, slee...  \n",
       "4  embroid, lace, dress, round, neck, dress, slee...  "
      ]
     },
     "execution_count": 19,
     "metadata": {},
     "output_type": "execute_result"
    }
   ],
   "source": [
    "df.head()"
   ]
  },
  {
   "cell_type": "code",
   "execution_count": 20,
   "metadata": {},
   "outputs": [
    {
     "name": "stdout",
     "output_type": "stream",
     "text": [
      "welcome to FIND THE DRESS OF YOUR DREAMS! which dress would you like to have? Please, insert here the link'https://cdn-images.farfetch-contents.com/13/36/21/05/13362105_15849618_300.jpg'\n",
      "{}\n"
     ]
    }
   ],
   "source": [
    "uri=input(\"welcome to FIND THE DRESS OF YOUR DREAMS! which dress would you like to have? Please, insert here the link\")\n",
    "import io\n",
    "import os\n",
    "from google.cloud import vision\n",
    "from google.cloud.vision import types\n",
    "import pandas as pd\n",
    "os.environ[\"GOOGLE_APPLICATION_CREDENTIALS\"]=\"./healthy-feat-234911-0b9642033688.json\"\n",
    "label_dict={}\n",
    "client = vision.ImageAnnotatorClient()\n",
    "image = vision.types.Image()\n",
    "image.source.image_uri = uri\n",
    "# Call client.image_properties with as (image=image) argument.\n",
    "response = client.label_detection(image=image)\n",
    "# Store the response of image_properties() in a variable response\n",
    "labels = response.label_annotations\n",
    "\n",
    "for label in labels:\n",
    "        scores = format(float(format(float(label.score),'.4f'))*100,'.2f')\n",
    "        label_dict[label.description] = scores\n",
    "print(label_dict)"
   ]
  },
  {
   "cell_type": "code",
   "execution_count": 21,
   "metadata": {},
   "outputs": [],
   "source": [
    "combine=df.append({'reference':0,'price':0,'available_sizes':0,'image':0,'item':0,'description':0,'color':0,'text_processed':[*label_dict]}, ignore_index=True)"
   ]
  },
  {
   "cell_type": "code",
   "execution_count": 22,
   "metadata": {},
   "outputs": [
    {
     "ename": "AttributeError",
     "evalue": "'list' object has no attribute 'lower'",
     "output_type": "error",
     "traceback": [
      "\u001b[0;31m---------------------------------------------------------------------------\u001b[0m",
      "\u001b[0;31mAttributeError\u001b[0m                            Traceback (most recent call last)",
      "\u001b[0;32m<ipython-input-22-6b6b7f6e6cc8>\u001b[0m in \u001b[0;36m<module>\u001b[0;34m\u001b[0m\n\u001b[0;32m----> 1\u001b[0;31m \u001b[0mcombine\u001b[0m\u001b[0;34m[\u001b[0m\u001b[0;34m'text_processed'\u001b[0m\u001b[0;34m]\u001b[0m\u001b[0;34m=\u001b[0m\u001b[0mcombine\u001b[0m\u001b[0;34m[\u001b[0m\u001b[0;34m'text_processed'\u001b[0m\u001b[0;34m]\u001b[0m\u001b[0;34m.\u001b[0m\u001b[0mapply\u001b[0m\u001b[0;34m(\u001b[0m\u001b[0mclean_f\u001b[0m\u001b[0;34m)\u001b[0m\u001b[0;34m\u001b[0m\u001b[0;34m\u001b[0m\u001b[0m\n\u001b[0m",
      "\u001b[0;32m/usr/local/lib/python3.7/site-packages/pandas/core/series.py\u001b[0m in \u001b[0;36mapply\u001b[0;34m(self, func, convert_dtype, args, **kwds)\u001b[0m\n\u001b[1;32m   3192\u001b[0m             \u001b[0;32melse\u001b[0m\u001b[0;34m:\u001b[0m\u001b[0;34m\u001b[0m\u001b[0;34m\u001b[0m\u001b[0m\n\u001b[1;32m   3193\u001b[0m                 \u001b[0mvalues\u001b[0m \u001b[0;34m=\u001b[0m \u001b[0mself\u001b[0m\u001b[0;34m.\u001b[0m\u001b[0mastype\u001b[0m\u001b[0;34m(\u001b[0m\u001b[0mobject\u001b[0m\u001b[0;34m)\u001b[0m\u001b[0;34m.\u001b[0m\u001b[0mvalues\u001b[0m\u001b[0;34m\u001b[0m\u001b[0;34m\u001b[0m\u001b[0m\n\u001b[0;32m-> 3194\u001b[0;31m                 \u001b[0mmapped\u001b[0m \u001b[0;34m=\u001b[0m \u001b[0mlib\u001b[0m\u001b[0;34m.\u001b[0m\u001b[0mmap_infer\u001b[0m\u001b[0;34m(\u001b[0m\u001b[0mvalues\u001b[0m\u001b[0;34m,\u001b[0m \u001b[0mf\u001b[0m\u001b[0;34m,\u001b[0m \u001b[0mconvert\u001b[0m\u001b[0;34m=\u001b[0m\u001b[0mconvert_dtype\u001b[0m\u001b[0;34m)\u001b[0m\u001b[0;34m\u001b[0m\u001b[0;34m\u001b[0m\u001b[0m\n\u001b[0m\u001b[1;32m   3195\u001b[0m \u001b[0;34m\u001b[0m\u001b[0m\n\u001b[1;32m   3196\u001b[0m         \u001b[0;32mif\u001b[0m \u001b[0mlen\u001b[0m\u001b[0;34m(\u001b[0m\u001b[0mmapped\u001b[0m\u001b[0;34m)\u001b[0m \u001b[0;32mand\u001b[0m \u001b[0misinstance\u001b[0m\u001b[0;34m(\u001b[0m\u001b[0mmapped\u001b[0m\u001b[0;34m[\u001b[0m\u001b[0;36m0\u001b[0m\u001b[0;34m]\u001b[0m\u001b[0;34m,\u001b[0m \u001b[0mSeries\u001b[0m\u001b[0;34m)\u001b[0m\u001b[0;34m:\u001b[0m\u001b[0;34m\u001b[0m\u001b[0;34m\u001b[0m\u001b[0m\n",
      "\u001b[0;32mpandas/_libs/src/inference.pyx\u001b[0m in \u001b[0;36mpandas._libs.lib.map_infer\u001b[0;34m()\u001b[0m\n",
      "\u001b[0;32m<ipython-input-17-0221cab68cf6>\u001b[0m in \u001b[0;36mclean_f\u001b[0;34m(x)\u001b[0m\n\u001b[1;32m     33\u001b[0m     \u001b[0mfunctions\u001b[0m \u001b[0;34m=\u001b[0m \u001b[0;34m[\u001b[0m\u001b[0mclean_up\u001b[0m\u001b[0;34m,\u001b[0m \u001b[0mtokenize\u001b[0m\u001b[0;34m,\u001b[0m \u001b[0mstem_and_lemmatize\u001b[0m\u001b[0;34m,\u001b[0m \u001b[0mremove_stopwords\u001b[0m\u001b[0;34m]\u001b[0m\u001b[0;34m\u001b[0m\u001b[0;34m\u001b[0m\u001b[0m\n\u001b[1;32m     34\u001b[0m     \u001b[0;32mfor\u001b[0m \u001b[0mf\u001b[0m \u001b[0;32min\u001b[0m \u001b[0mfunctions\u001b[0m\u001b[0;34m:\u001b[0m\u001b[0;34m\u001b[0m\u001b[0;34m\u001b[0m\u001b[0m\n\u001b[0;32m---> 35\u001b[0;31m         \u001b[0mx\u001b[0m \u001b[0;34m=\u001b[0m \u001b[0mf\u001b[0m\u001b[0;34m(\u001b[0m\u001b[0mx\u001b[0m\u001b[0;34m)\u001b[0m\u001b[0;34m\u001b[0m\u001b[0;34m\u001b[0m\u001b[0m\n\u001b[0m\u001b[1;32m     36\u001b[0m     \u001b[0;32mreturn\u001b[0m \u001b[0mx\u001b[0m\u001b[0;34m\u001b[0m\u001b[0;34m\u001b[0m\u001b[0m\n\u001b[1;32m     37\u001b[0m \u001b[0;34m\u001b[0m\u001b[0m\n",
      "\u001b[0;32m<ipython-input-17-0221cab68cf6>\u001b[0m in \u001b[0;36mclean_up\u001b[0;34m(s)\u001b[0m\n\u001b[1;32m      9\u001b[0m \u001b[0;34m\u001b[0m\u001b[0m\n\u001b[1;32m     10\u001b[0m \u001b[0;32mdef\u001b[0m \u001b[0mclean_up\u001b[0m\u001b[0;34m(\u001b[0m\u001b[0ms\u001b[0m\u001b[0;34m)\u001b[0m\u001b[0;34m:\u001b[0m\u001b[0;34m\u001b[0m\u001b[0;34m\u001b[0m\u001b[0m\n\u001b[0;32m---> 11\u001b[0;31m     \u001b[0mlines\u001b[0m \u001b[0;34m=\u001b[0m \u001b[0ms\u001b[0m\u001b[0;34m.\u001b[0m\u001b[0mlower\u001b[0m\u001b[0;34m(\u001b[0m\u001b[0;34m)\u001b[0m\u001b[0;34m.\u001b[0m\u001b[0msplit\u001b[0m\u001b[0;34m(\u001b[0m\u001b[0;34m\" \"\u001b[0m\u001b[0;34m)\u001b[0m\u001b[0;34m\u001b[0m\u001b[0;34m\u001b[0m\u001b[0m\n\u001b[0m\u001b[1;32m     12\u001b[0m     \u001b[0mlines\u001b[0m \u001b[0;34m=\u001b[0m \u001b[0;34m[\u001b[0m\u001b[0mre\u001b[0m\u001b[0;34m.\u001b[0m\u001b[0msub\u001b[0m\u001b[0;34m(\u001b[0m\u001b[0;34mr'\\d'\u001b[0m\u001b[0;34m,\u001b[0m \u001b[0;34m' '\u001b[0m\u001b[0;34m,\u001b[0m \u001b[0mline\u001b[0m\u001b[0;34m)\u001b[0m \u001b[0;32mfor\u001b[0m \u001b[0mline\u001b[0m \u001b[0;32min\u001b[0m \u001b[0mlines\u001b[0m\u001b[0;34m]\u001b[0m\u001b[0;34m\u001b[0m\u001b[0;34m\u001b[0m\u001b[0m\n\u001b[1;32m     13\u001b[0m     \u001b[0mlines\u001b[0m \u001b[0;34m=\u001b[0m \u001b[0;34m[\u001b[0m\u001b[0mre\u001b[0m\u001b[0;34m.\u001b[0m\u001b[0msub\u001b[0m\u001b[0;34m(\u001b[0m\u001b[0;34mr'\\W'\u001b[0m\u001b[0;34m,\u001b[0m \u001b[0;34m' '\u001b[0m\u001b[0;34m,\u001b[0m \u001b[0mline\u001b[0m\u001b[0;34m)\u001b[0m \u001b[0;32mfor\u001b[0m \u001b[0mline\u001b[0m \u001b[0;32min\u001b[0m \u001b[0mlines\u001b[0m\u001b[0;34m]\u001b[0m\u001b[0;34m\u001b[0m\u001b[0;34m\u001b[0m\u001b[0m\n",
      "\u001b[0;31mAttributeError\u001b[0m: 'list' object has no attribute 'lower'"
     ]
    }
   ],
   "source": [
    "combine['text_processed']=combine['text_processed'].apply(clean_f)"
   ]
  },
  {
   "cell_type": "code",
   "execution_count": null,
   "metadata": {},
   "outputs": [],
   "source": [
    "combine['text_processed']=combine['text_processed'].apply(', '.join)"
   ]
  },
  {
   "cell_type": "code",
   "execution_count": null,
   "metadata": {},
   "outputs": [],
   "source": [
    "combine"
   ]
  },
  {
   "cell_type": "code",
   "execution_count": null,
   "metadata": {},
   "outputs": [],
   "source": [
    "lst2=['Clothing','White','Dress','Day dress','Product','Pink','Sleeve','Cocktail dress','Pattern','Gown']"
   ]
  },
  {
   "cell_type": "code",
   "execution_count": null,
   "metadata": {},
   "outputs": [],
   "source": [
    "df2=pd.DataFrame([lst2])\n",
    "df2[10]=df2[0]+\" \"+df2[1]+\" \"+df2[2]+\" \"+df2[3]+\" \"+df2[4]+\" \"+df2[5]+\" \"+df2[6]+\" \"+df2[7]+\" \"+df2[8]+\" \"+df2[9]\n"
   ]
  },
  {
   "cell_type": "code",
   "execution_count": null,
   "metadata": {},
   "outputs": [],
   "source": [
    "df2[10]=df2[10].apply(clean_f)"
   ]
  },
  {
   "cell_type": "code",
   "execution_count": null,
   "metadata": {},
   "outputs": [],
   "source": [
    "df2.drop([0,1,2], axis=1,inplace=True)"
   ]
  },
  {
   "cell_type": "code",
   "execution_count": null,
   "metadata": {},
   "outputs": [],
   "source": [
    "df2=df2.rename(columns={3:'reference',4:'price',5:'available_sizes',6:'image',7:'item',8:'description',9:'color',10:'text_processed'})"
   ]
  },
  {
   "cell_type": "code",
   "execution_count": null,
   "metadata": {},
   "outputs": [],
   "source": [
    "df2"
   ]
  },
  {
   "cell_type": "code",
   "execution_count": null,
   "metadata": {},
   "outputs": [],
   "source": [
    "df2['text_processed']=df2['text_processed'].apply(', '.join)"
   ]
  },
  {
   "cell_type": "code",
   "execution_count": null,
   "metadata": {},
   "outputs": [],
   "source": [
    "combine = df.append(df2).reset_index(drop=True)"
   ]
  },
  {
   "cell_type": "code",
   "execution_count": null,
   "metadata": {},
   "outputs": [],
   "source": [
    "combine"
   ]
  },
  {
   "cell_type": "code",
   "execution_count": null,
   "metadata": {},
   "outputs": [],
   "source": []
  },
  {
   "cell_type": "code",
   "execution_count": null,
   "metadata": {},
   "outputs": [],
   "source": [
    "combine"
   ]
  },
  {
   "cell_type": "code",
   "execution_count": null,
   "metadata": {},
   "outputs": [],
   "source": [
    "combine.shape"
   ]
  },
  {
   "cell_type": "code",
   "execution_count": null,
   "metadata": {},
   "outputs": [],
   "source": [
    "import pandas as pd\n",
    "from sklearn.feature_extraction.text import TfidfVectorizer\n",
    "from sklearn.metrics.pairwise import cosine_similarity\n",
    "\n",
    "tf = TfidfVectorizer(analyzer='word', ngram_range=(1, 3), min_df=0, stop_words='english')\n",
    "\n",
    "tfidf_matrix = tf.fit_transform(combine['text_processed'])\n",
    "cosine_similarities = cosine_similarity(tfidf_matrix,tfidf_matrix)\n",
    "\n",
    "results = {} # dictionary created to store the result in a dictionary format (ID : (Score,item_id))\n",
    "\n",
    "for idx, row in combine.iterrows(): #iterates through all the rows\n",
    "    # the below code 'similar_indice' stores similar ids based on cosine similarity. sorts them in ascending order. [:-5:-1] is then used so that the indices with most similarity are got. 0 means no similarity and 1 means perfect similarity\n",
    "    similar_indices = cosine_similarities[idx].argsort()[:-5:-1] #stores 5 most similar books, you can change it as per your needs\n",
    "    similar_items = [(cosine_similarities[idx][i], combine['reference'][i]) for i in similar_indices]\n",
    "    results[row['reference']] = similar_items[1:]\n",
    "    \n",
    "#below code 'function item(id)' returns a row matching the id along with Book Title. Initially it is a dataframe, then we convert it to a list\n",
    "def item(id):\n",
    "    return combine.loc[combine['reference'] == id]['reference'].tolist()[0]\n",
    "def recommend(id, num):\n",
    "    if (num == 0):\n",
    "        print(\"Unable to recommend any dress as you have not chosen the number of dresses to be recommended\")\n",
    "    elif (num==1):\n",
    "        print(\"Recommending \" + str(num) + \" dresses similar to \" + item(id))\n",
    "        \n",
    "    else :\n",
    "        print(\"Recommending \" + str(num) + \" dresses similar to \" + item(id))\n",
    "        \n",
    "    print(\"----------------------------------------------------------\")\n",
    "    recs = results[id][:num]\n",
    "    for rec in recs:\n",
    "        print(\"You may like this dress: \" + item(rec[1]) + \" (score:\" + str(rec[0]) + \")\")\n",
    "        print (\"We hope you love them!\")\n",
    "        print (\"You can buy them online at www.zara.com or at any of our stores\")\n",
    "\n",
    "#the first argument in the below function to be passed is the id of the book, second argument is the number of books you want to be recommended\n",
    "recommend('Day dress',3)"
   ]
  },
  {
   "cell_type": "code",
   "execution_count": null,
   "metadata": {},
   "outputs": [],
   "source": []
  }
 ],
 "metadata": {
  "kernelspec": {
   "display_name": "Python 3",
   "language": "python",
   "name": "python3"
  },
  "language_info": {
   "codemirror_mode": {
    "name": "ipython",
    "version": 3
   },
   "file_extension": ".py",
   "mimetype": "text/x-python",
   "name": "python",
   "nbconvert_exporter": "python",
   "pygments_lexer": "ipython3",
   "version": "3.7.2"
  }
 },
 "nbformat": 4,
 "nbformat_minor": 2
}
