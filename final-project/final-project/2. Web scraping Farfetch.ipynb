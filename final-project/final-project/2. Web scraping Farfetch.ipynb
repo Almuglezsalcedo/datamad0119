{
 "cells": [
  {
   "cell_type": "markdown",
   "metadata": {},
   "source": [
    "##### Farfetch es una web de multimarcas de lujo. Usaré alguna de sus prendas  para pedir recomendaciones. He creado una clase para escrapear la web por si en un futuro quiero sacar varias URLs a la vez"
   ]
  },
  {
   "cell_type": "code",
   "execution_count": 3,
   "metadata": {},
   "outputs": [],
   "source": [
    "import requests\n",
    "from bs4 import BeautifulSoup\n",
    "import numpy as np\n",
    "import time\n",
    "from selenium import webdriver\n",
    "import os\n",
    "from selenium.webdriver.common.keys import Keys\n",
    "from webdriver_manager.chrome import ChromeDriverManager"
   ]
  },
  {
   "cell_type": "code",
   "execution_count": 6,
   "metadata": {},
   "outputs": [],
   "source": [
    "class farfetch_scrape:\n",
    "    \n",
    "    def __init__(self,url):\n",
    "        self.url=url\n",
    "\n",
    "    def get_attrs(self,webelement, attr='href'): \n",
    "            try: \n",
    "                return webelement.get_attribute(attr)\n",
    "            except: \n",
    "                return ''\n",
    "    def get_list(self): # List of urls para vestidos\n",
    "            driver = webdriver.Chrome((ChromeDriverManager().install()))\n",
    "            driver.get(self.url)\n",
    "            source_data = driver.page_source\n",
    "            elem = driver.find_element_by_tag_name(\"body\")\n",
    "\n",
    "            no_of_pagedowns = 10\n",
    "\n",
    "            res = []\n",
    "\n",
    "            while no_of_pagedowns:\n",
    "                elem.send_keys(Keys.PAGE_DOWN)\n",
    "                time.sleep(0.2)\n",
    "                no_of_pagedowns-=1\n",
    "            div = driver.find_elements_by_class_name('_7e8db3')\n",
    "            for i in div:\n",
    "                b=i.find_elements_by_css_selector('img')\n",
    "                for c in b:\n",
    "                    res.append(c)\n",
    "            urls = [self.get_attrs(e, 'src') for e in res]\n",
    "            return urls"
   ]
  },
  {
   "cell_type": "code",
   "execution_count": 7,
   "metadata": {},
   "outputs": [
    {
     "name": "stdout",
     "output_type": "stream",
     "text": [
      "\n",
      "Checking for mac64 chromedriver:2.46 in cache\n",
      "Driver found in /Users/almu/.wdm/chromedriver/2.46/mac64/chromedriver\n"
     ]
    },
    {
     "data": {
      "text/plain": [
       "['https://cdn-images.farfetch-contents.com/13/88/79/82/13887982_17486064_300.jpg',\n",
       " 'https://cdn-images.farfetch-contents.com/13/15/01/50/13150150_15953438_300.jpg',\n",
       " 'https://cdn-images.farfetch-contents.com/13/57/51/42/13575142_17276155_300.jpg',\n",
       " 'https://cdn-images.farfetch-contents.com/13/71/74/62/13717462_16859197_300.jpg',\n",
       " 'https://cdn-images.farfetch-contents.com/13/74/00/84/13740084_17437177_300.jpg',\n",
       " 'https://cdn-images.farfetch-contents.com/13/31/56/88/13315688_16111101_300.jpg',\n",
       " 'https://cdn-images.farfetch-contents.com/13/43/91/61/13439161_16412251_300.jpg',\n",
       " 'https://cdn-images.farfetch-contents.com/13/65/14/17/13651417_17224614_300.jpg',\n",
       " 'https://cdn-images.farfetch-contents.com/13/65/13/74/13651374_17088379_300.jpg',\n",
       " 'https://cdn-images.farfetch-contents.com/13/71/74/55/13717455_17151946_300.jpg',\n",
       " 'https://cdn-images.farfetch-contents.com/13/43/88/55/13438855_15821098_300.jpg',\n",
       " 'https://cdn-images.farfetch-contents.com/13/36/21/05/13362105_15849618_300.jpg',\n",
       " 'https://cdn-images.farfetch-contents.com/13/55/08/54/13550854_17153841_1000.jpg',\n",
       " 'https://cdn-images.farfetch-contents.com/13/49/74/36/13497436_17274357_300.jpg',\n",
       " 'https://cdn-images.farfetch-contents.com/13/62/95/60/13629560_17463152_300.jpg',\n",
       " 'https://cdn-images.farfetch-contents.com/13/65/57/10/13655710_17335324_300.jpg',\n",
       " 'https://cdn-images.farfetch-contents.com/13/50/95/82/13509582_16795880_300.jpg',\n",
       " 'https://cdn-images.farfetch-contents.com/13/35/37/29/13353729_16510863_300.jpg',\n",
       " 'https://cdn-images.farfetch-contents.com/13/85/14/43/13851443_17458877_300.jpg',\n",
       " 'https://cdn-images.farfetch-contents.com/13/34/26/44/13342644_16681178_300.jpg',\n",
       " 'https://cdn-images.farfetch-contents.com/13/59/51/02/13595102_17230290_300.jpg',\n",
       " 'https://cdn-images.farfetch-contents.com/13/31/75/76/13317576_16787129_300.jpg',\n",
       " 'https://cdn-images.farfetch-contents.com/13/85/79/90/13857990_17465539_300.jpg',\n",
       " 'https://cdn-images.farfetch-contents.com/13/30/25/50/13302550_15910500_300.jpg',\n",
       " 'https://cdn-images.farfetch-contents.com/13/41/06/71/13410671_17084297_300.jpg',\n",
       " 'https://cdn-images.farfetch-contents.com/13/34/26/22/13342622_16680991_1000.jpg',\n",
       " 'https://cdn-images.farfetch-contents.com/13/36/21/03/13362103_15522541_300.jpg',\n",
       " 'https://cdn-images.farfetch-contents.com/13/19/09/83/13190983_15890741_300.jpg',\n",
       " 'https://cdn-images.farfetch-contents.com/13/70/47/35/13704735_16617081_300.jpg',\n",
       " 'https://cdn-images.farfetch-contents.com/13/48/06/69/13480669_17059111_300.jpg',\n",
       " 'https://cdn-images.farfetch-contents.com/13/69/06/59/13690659_16645227_300.jpg',\n",
       " 'https://cdn-images.farfetch-contents.com/13/57/22/94/13572294_17119841_300.jpg',\n",
       " 'https://cdn-images.farfetch-contents.com/13/83/40/95/13834095_17154383_300.jpg',\n",
       " 'https://cdn-images.farfetch-contents.com/13/43/88/51/13438851_16319692_300.jpg',\n",
       " 'https://cdn-images.farfetch-contents.com/13/57/22/92/13572292_16689197_300.jpg',\n",
       " 'https://cdn-images.farfetch-contents.com/13/71/74/57/13717457_17230600_1000.jpg',\n",
       " 'https://cdn-images.farfetch-contents.com/13/60/88/88/13608888_17154738_300.jpg',\n",
       " 'https://cdn-images.farfetch-contents.com/13/85/10/28/13851028_17286533_300.jpg',\n",
       " 'https://cdn-images.farfetch-contents.com/13/30/25/40/13302540_17059349_300.jpg',\n",
       " 'https://cdn-images.farfetch-contents.com/13/62/97/82/13629782_17187150_300.jpg',\n",
       " 'https://cdn-images.farfetch-contents.com/13/57/22/95/13572295_17028593_300.jpg',\n",
       " 'https://cdn-images.farfetch-contents.com/13/71/74/44/13717444_16859668_300.jpg',\n",
       " 'https://cdn-images.farfetch-contents.com/13/40/50/93/13405093_17387592_300.jpg',\n",
       " 'https://cdn-images.farfetch-contents.com/13/43/87/96/13438796_16453666_300.jpg',\n",
       " 'https://cdn-images.farfetch-contents.com/13/24/96/05/13249605_16967367_300.jpg',\n",
       " 'https://cdn-images.farfetch-contents.com/13/36/23/14/13362314_15923602_300.jpg',\n",
       " 'https://cdn-images.farfetch-contents.com/13/74/46/58/13744658_17320754_300.jpg',\n",
       " 'https://cdn-images.farfetch-contents.com/13/67/59/74/13675974_16592860_300.jpg',\n",
       " 'https://cdn-images.farfetch-contents.com/13/60/47/97/13604797_16265295_300.jpg',\n",
       " 'https://cdn-images.farfetch-contents.com/13/45/28/79/13452879_17078891_300.jpg',\n",
       " 'https://cdn-images.farfetch-contents.com/13/83/40/86/13834086_17153982_300.jpg',\n",
       " 'https://cdn-images.farfetch-contents.com/13/64/62/38/13646238_16470815_300.jpg',\n",
       " 'https://cdn-images.farfetch-contents.com/13/64/50/12/13645012_17028620_300.jpg',\n",
       " 'https://cdn-images.farfetch-contents.com/13/31/75/68/13317568_16407446_300.jpg']"
      ]
     },
     "execution_count": 7,
     "metadata": {},
     "output_type": "execute_result"
    }
   ],
   "source": [
    "url= 'https://www.farfetch.com/uk/shopping/women/dresses-1/items.aspx'\n",
    "farfetch_urls=farfetch_scrape(url)\n",
    "vestidos_Farfetch=farfetch_urls.get_list()\n",
    "vestidos_Farfetch"
   ]
  },
  {
   "cell_type": "code",
   "execution_count": null,
   "metadata": {},
   "outputs": [],
   "source": []
  }
 ],
 "metadata": {
  "kernelspec": {
   "display_name": "Python 3",
   "language": "python",
   "name": "python3"
  },
  "language_info": {
   "codemirror_mode": {
    "name": "ipython",
    "version": 3
   },
   "file_extension": ".py",
   "mimetype": "text/x-python",
   "name": "python",
   "nbconvert_exporter": "python",
   "pygments_lexer": "ipython3",
   "version": "3.7.2"
  }
 },
 "nbformat": 4,
 "nbformat_minor": 2
}
