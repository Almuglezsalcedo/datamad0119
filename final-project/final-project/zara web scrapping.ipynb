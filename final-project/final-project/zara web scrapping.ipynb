{
 "cells": [
  {
   "cell_type": "code",
   "execution_count": 1,
   "metadata": {},
   "outputs": [],
   "source": [
    "import requests\n",
    "from bs4 import BeautifulSoup\n",
    "import numpy as np\n",
    "import time\n",
    "from selenium import webdriver\n",
    "import os\n",
    "from selenium.webdriver.common.keys import Keys\n",
    "from webdriver_manager.chrome import ChromeDriverManager\n",
    "import pandas as pd"
   ]
  },
  {
   "cell_type": "code",
   "execution_count": 3,
   "metadata": {},
   "outputs": [
    {
     "name": "stdout",
     "output_type": "stream",
     "text": [
      "\n",
      "Checking for mac64 chromedriver:2.46 in cache\n",
      "Driver found in /Users/almu/.wdm/chromedriver/2.46/mac64/chromedriver\n",
      "10\n",
      "9\n",
      "8\n",
      "7\n",
      "6\n",
      "5\n",
      "4\n",
      "3\n",
      "2\n",
      "1\n"
     ]
    },
    {
     "ename": "NameError",
     "evalue": "name 'get_attrs' is not defined",
     "output_type": "error",
     "traceback": [
      "\u001b[0;31m---------------------------------------------------------------------------\u001b[0m",
      "\u001b[0;31mNameError\u001b[0m                                 Traceback (most recent call last)",
      "\u001b[0;32m<ipython-input-3-9974de623c6f>\u001b[0m in \u001b[0;36m<module>\u001b[0;34m\u001b[0m\n\u001b[1;32m     72\u001b[0m \u001b[0;34m\u001b[0m\u001b[0m\n\u001b[1;32m     73\u001b[0m \u001b[0;31m# Launches the class method\u001b[0m\u001b[0;34m\u001b[0m\u001b[0;34m\u001b[0m\u001b[0;34m\u001b[0m\u001b[0m\n\u001b[0;32m---> 74\u001b[0;31m \u001b[0mdata_vestidos\u001b[0m \u001b[0;34m=\u001b[0m \u001b[0mvestidos_ls\u001b[0m\u001b[0;34m.\u001b[0m\u001b[0mloop_it\u001b[0m\u001b[0;34m(\u001b[0m\u001b[0;34m)\u001b[0m\u001b[0;34m\u001b[0m\u001b[0;34m\u001b[0m\u001b[0m\n\u001b[0m\u001b[1;32m     75\u001b[0m \u001b[0;34m\u001b[0m\u001b[0m\n\u001b[1;32m     76\u001b[0m \u001b[0mprint\u001b[0m\u001b[0;34m(\u001b[0m\u001b[0mlen\u001b[0m\u001b[0;34m(\u001b[0m\u001b[0mdata_vestidos\u001b[0m\u001b[0;34m)\u001b[0m\u001b[0;34m)\u001b[0m\u001b[0;34m\u001b[0m\u001b[0;34m\u001b[0m\u001b[0m\n",
      "\u001b[0;32m<ipython-input-3-9974de623c6f>\u001b[0m in \u001b[0;36mloop_it\u001b[0;34m(self)\u001b[0m\n\u001b[1;32m     59\u001b[0m \u001b[0;34m\u001b[0m\u001b[0m\n\u001b[1;32m     60\u001b[0m     \u001b[0;32mdef\u001b[0m \u001b[0mloop_it\u001b[0m\u001b[0;34m(\u001b[0m\u001b[0mself\u001b[0m\u001b[0;34m)\u001b[0m\u001b[0;34m:\u001b[0m \u001b[0;31m# Iterates over the url root.\u001b[0m\u001b[0;34m\u001b[0m\u001b[0;34m\u001b[0m\u001b[0m\n\u001b[0;32m---> 61\u001b[0;31m         \u001b[0miterable\u001b[0m \u001b[0;34m=\u001b[0m \u001b[0mself\u001b[0m\u001b[0;34m.\u001b[0m\u001b[0mget_list\u001b[0m\u001b[0;34m(\u001b[0m\u001b[0;34m)\u001b[0m\u001b[0;34m\u001b[0m\u001b[0;34m\u001b[0m\u001b[0m\n\u001b[0m\u001b[1;32m     62\u001b[0m         \u001b[0;32mfor\u001b[0m \u001b[0me\u001b[0m \u001b[0;32min\u001b[0m \u001b[0miterable\u001b[0m\u001b[0;34m:\u001b[0m\u001b[0;34m\u001b[0m\u001b[0;34m\u001b[0m\u001b[0m\n\u001b[1;32m     63\u001b[0m             \u001b[0mprint\u001b[0m \u001b[0;34m(\u001b[0m\u001b[0mlen\u001b[0m\u001b[0;34m(\u001b[0m\u001b[0mself\u001b[0m\u001b[0;34m.\u001b[0m\u001b[0mproduct_list\u001b[0m\u001b[0;34m)\u001b[0m\u001b[0;34m)\u001b[0m\u001b[0;34m\u001b[0m\u001b[0;34m\u001b[0m\u001b[0m\n",
      "\u001b[0;32m<ipython-input-3-9974de623c6f>\u001b[0m in \u001b[0;36mget_list\u001b[0;34m(self)\u001b[0m\n\u001b[1;32m     56\u001b[0m             \u001b[0;32mfor\u001b[0m \u001b[0mc\u001b[0m \u001b[0;32min\u001b[0m \u001b[0mb\u001b[0m\u001b[0;34m:\u001b[0m\u001b[0;34m\u001b[0m\u001b[0;34m\u001b[0m\u001b[0m\n\u001b[1;32m     57\u001b[0m                 \u001b[0mres\u001b[0m\u001b[0;34m.\u001b[0m\u001b[0mappend\u001b[0m\u001b[0;34m(\u001b[0m\u001b[0mc\u001b[0m\u001b[0;34m)\u001b[0m\u001b[0;34m\u001b[0m\u001b[0;34m\u001b[0m\u001b[0m\n\u001b[0;32m---> 58\u001b[0;31m         \u001b[0;32mreturn\u001b[0m \u001b[0;34m[\u001b[0m\u001b[0mget_attrs\u001b[0m\u001b[0;34m(\u001b[0m\u001b[0me\u001b[0m\u001b[0;34m,\u001b[0m \u001b[0;34m'href'\u001b[0m\u001b[0;34m)\u001b[0m \u001b[0;32mfor\u001b[0m \u001b[0me\u001b[0m \u001b[0;32min\u001b[0m \u001b[0mres\u001b[0m\u001b[0;34m]\u001b[0m\u001b[0;34m\u001b[0m\u001b[0;34m\u001b[0m\u001b[0m\n\u001b[0m\u001b[1;32m     59\u001b[0m \u001b[0;34m\u001b[0m\u001b[0m\n\u001b[1;32m     60\u001b[0m     \u001b[0;32mdef\u001b[0m \u001b[0mloop_it\u001b[0m\u001b[0;34m(\u001b[0m\u001b[0mself\u001b[0m\u001b[0;34m)\u001b[0m\u001b[0;34m:\u001b[0m \u001b[0;31m# Iterates over the url root.\u001b[0m\u001b[0;34m\u001b[0m\u001b[0;34m\u001b[0m\u001b[0m\n",
      "\u001b[0;32m<ipython-input-3-9974de623c6f>\u001b[0m in \u001b[0;36m<listcomp>\u001b[0;34m(.0)\u001b[0m\n\u001b[1;32m     56\u001b[0m             \u001b[0;32mfor\u001b[0m \u001b[0mc\u001b[0m \u001b[0;32min\u001b[0m \u001b[0mb\u001b[0m\u001b[0;34m:\u001b[0m\u001b[0;34m\u001b[0m\u001b[0;34m\u001b[0m\u001b[0m\n\u001b[1;32m     57\u001b[0m                 \u001b[0mres\u001b[0m\u001b[0;34m.\u001b[0m\u001b[0mappend\u001b[0m\u001b[0;34m(\u001b[0m\u001b[0mc\u001b[0m\u001b[0;34m)\u001b[0m\u001b[0;34m\u001b[0m\u001b[0;34m\u001b[0m\u001b[0m\n\u001b[0;32m---> 58\u001b[0;31m         \u001b[0;32mreturn\u001b[0m \u001b[0;34m[\u001b[0m\u001b[0mget_attrs\u001b[0m\u001b[0;34m(\u001b[0m\u001b[0me\u001b[0m\u001b[0;34m,\u001b[0m \u001b[0;34m'href'\u001b[0m\u001b[0;34m)\u001b[0m \u001b[0;32mfor\u001b[0m \u001b[0me\u001b[0m \u001b[0;32min\u001b[0m \u001b[0mres\u001b[0m\u001b[0;34m]\u001b[0m\u001b[0;34m\u001b[0m\u001b[0;34m\u001b[0m\u001b[0m\n\u001b[0m\u001b[1;32m     59\u001b[0m \u001b[0;34m\u001b[0m\u001b[0m\n\u001b[1;32m     60\u001b[0m     \u001b[0;32mdef\u001b[0m \u001b[0mloop_it\u001b[0m\u001b[0;34m(\u001b[0m\u001b[0mself\u001b[0m\u001b[0;34m)\u001b[0m\u001b[0;34m:\u001b[0m \u001b[0;31m# Iterates over the url root.\u001b[0m\u001b[0;34m\u001b[0m\u001b[0;34m\u001b[0m\u001b[0m\n",
      "\u001b[0;31mNameError\u001b[0m: name 'get_attrs' is not defined"
     ]
    }
   ],
   "source": [
    "class Zarascrape:\n",
    "\n",
    "    def __init__ (self, url): # Declaro las variables self de la clase\n",
    "        self.url = url \n",
    "        self.col_names = [\"url\", \"description\"]\n",
    "        self.product_list = [] \n",
    " \n",
    "    def get_info(self, url): # saca la info de cada vestido en particular\n",
    "        html = requests.get(url).content\n",
    "        data = BeautifulSoup(html, \"lxml\")\n",
    "        prod_title=data.find(\"h1\",{\"class\":\"product-name\"})\n",
    "        title=prod_title.text.replace(\" Detalle\",\"\")\n",
    "        prod_descr = data.find(\"p\",{\"class\":\"description\"})\n",
    "        prod_various = data.find(\"p\",{\"class\":\"product-color\"})\n",
    "        prod_color=prod_various.find(\"span\",{\"class\": \"_colorName\"})\n",
    "        prod_ref=prod_various.find(\"span\",{\"data-qa-qualifier\": \"product-reference\"})\n",
    "        prod_price=data.find_all(\"script\",{\"type\":\"application/ld+json\"})\n",
    "        for i in prod_price:\n",
    "            price=i.text.split(',')[-2].lstrip('\"price\": ').replace('\"','')\n",
    "        prod_size=data.find_all(\"div\",{\"class\":\"size-select\"})\n",
    "        for all_size in prod_size:\n",
    "            size=all_size.find_all(\"label\", {'class':'product-size _product-size'}) #filtramos por tallas disponibles\n",
    "            available_size=[s.text for s in size]\n",
    "        prod_images=data.find_all(\"a\",{\"class\":\"_seoImg main-image\"})\n",
    "        prod_image=[e.get(\"href\") for e in prod_images][0].lstrip(\"//\")\n",
    "        try:\n",
    "            features=[title,prod_descr.text,prod_color.text,prod_ref.text, price, available_size,prod_image]\n",
    "        except:\n",
    "            features=[\"\",\"\",\"\",\"\",\"\",\"\",\"\"]\n",
    "        return features\n",
    "\n",
    "    def get_attrs(webelement, attr='href'): \n",
    "        try: \n",
    "            return webelement.get_attribute(attr)\n",
    "        except: \n",
    "            return (\"\")\n",
    "    \n",
    "    def get_list(self): # List of urls para vestidos\n",
    "        driver = webdriver.Chrome((ChromeDriverManager().install()))\n",
    "        driver.get(self.url)\n",
    "        source_data = driver.page_source\n",
    "        elem = driver.find_element_by_tag_name(\"body\")\n",
    "\n",
    "        no_of_pagedowns = 10\n",
    "\n",
    "        res = []\n",
    "\n",
    "        while no_of_pagedowns:\n",
    "            print(no_of_pagedowns)\n",
    "            elem.send_keys(Keys.PAGE_DOWN)\n",
    "            time.sleep(0.2)\n",
    "            no_of_pagedowns-=1\n",
    "        div = driver.find_elements_by_class_name('product-info-item')\n",
    "        for i in div:\n",
    "            b=i.find_elements_by_css_selector('a')\n",
    "            for c in b:\n",
    "                res.append(c)\n",
    "        return [get_attrs(e, 'href') for e in res]\n",
    "\n",
    "    def loop_it(self): # Iterates over the url root. \n",
    "        iterable = self.get_list()\n",
    "        for e in iterable:\n",
    "            print (len(self.product_list))\n",
    "            self.product_list.append(self.get_info(e))\n",
    "            time.sleep(3)\n",
    "        return self.product_list\n",
    "    \n",
    "url_vestidos = 'https://www.zara.com/uk/en/woman-dresses-l1066.html?v1=1180427' # Scrapea sólo vestidos\n",
    "\n",
    "# Assigns the Zarascrape class for dresses to an object\n",
    "vestidos_ls = Zarascrape(url_vestidos)\n",
    "\n",
    "# Launches the class method\n",
    "data_vestidos = vestidos_ls.loop_it()\n",
    "\n",
    "print(len(data_vestidos))\n",
    "data_vestidos[:5]"
   ]
  },
  {
   "cell_type": "code",
   "execution_count": null,
   "metadata": {},
   "outputs": [],
   "source": [
    "# Saves the df into a .csv\n",
    "zara_base = pd.DataFrame(data_vestidos)"
   ]
  },
  {
   "cell_type": "code",
   "execution_count": null,
   "metadata": {},
   "outputs": [],
   "source": [
    "zara_base.head()"
   ]
  },
  {
   "cell_type": "code",
   "execution_count": null,
   "metadata": {},
   "outputs": [],
   "source": [
    "zara_base.shape"
   ]
  },
  {
   "cell_type": "code",
   "execution_count": null,
   "metadata": {},
   "outputs": [],
   "source": [
    "# Saves the df into a .csv\n",
    "zara_dresses = zara_base.to_csv(\"zara.csv\", index=False)"
   ]
  },
  {
   "cell_type": "code",
   "execution_count": null,
   "metadata": {},
   "outputs": [],
   "source": []
  },
  {
   "cell_type": "code",
   "execution_count": null,
   "metadata": {},
   "outputs": [],
   "source": []
  }
 ],
 "metadata": {
  "kernelspec": {
   "display_name": "Python 3",
   "language": "python",
   "name": "python3"
  },
  "language_info": {
   "codemirror_mode": {
    "name": "ipython",
    "version": 3
   },
   "file_extension": ".py",
   "mimetype": "text/x-python",
   "name": "python",
   "nbconvert_exporter": "python",
   "pygments_lexer": "ipython3",
   "version": "3.7.2"
  }
 },
 "nbformat": 4,
 "nbformat_minor": 2
}
