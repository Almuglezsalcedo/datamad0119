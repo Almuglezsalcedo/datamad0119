{
 "cells": [
  {
   "cell_type": "code",
   "execution_count": 1,
   "metadata": {},
   "outputs": [],
   "source": [
    "import requests\n",
    "from bs4 import BeautifulSoup\n",
    "import numpy as np\n",
    "import time\n",
    "from selenium import webdriver\n",
    "import os\n",
    "from selenium.webdriver.common.keys import Keys\n",
    "from webdriver_manager.chrome import ChromeDriverManager\n",
    "import pandas as pd"
   ]
  },
  {
   "cell_type": "code",
   "execution_count": null,
   "metadata": {},
   "outputs": [],
   "source": [
    "### class Zarascrape:\n",
    "\n",
    "    def __init__ (self, url): # Declaro las variables self de la clase\n",
    "        self.url = url \n",
    "        self.col_names = [\"url\", \"description\"]\n",
    "        self.product_list = [] \n",
    "        \n",
    "    def get_info(self, url): # saca la info de cada vestido en particular\n",
    "        html = requests.get(url).content\n",
    "        data = BeautifulSoup(html, \"lxml\")\n",
    "        prod_title=data.find(\"h1\",{\"class\":\"product-name\"})\n",
    "        title=prod_title.text.replace(\" Detalle\",\"\")\n",
    "        prod_descr = data.find(\"p\",{\"class\":\"description\"})\n",
    "        prod_various = data.find(\"p\",{\"class\":\"product-color\"})\n",
    "        prod_color=prod_various.find(\"span\",{\"class\": \"_colorName\"})\n",
    "        prod_ref=prod_various.find(\"span\",{\"data-qa-qualifier\": \"product-reference\"})\n",
    "        prod_price=data.find_all(\"script\",{\"type\":\"application/ld+json\"})\n",
    "        for i in prod_price:\n",
    "            price=i.text.split(',')[-2].lstrip('\"price\": ').replace('\"','')\n",
    "        prod_size=data.find_all(\"div\",{\"class\":\"size-select\"})\n",
    "        for all_size in prod_size:\n",
    "            size=all_size.find_all(\"label\", {'class':'product-size _product-size'}) #filtramos por tallas disponibles\n",
    "            available_size=[s.text for s in size]\n",
    "        prod_images=data.find_all(\"a\",{\"class\":\"_seoImg main-image\"})\n",
    "        prod_image=[e.get(\"href\") for e in prod_images][0].lstrip(\"//\")\n",
    "        try:\n",
    "            features=[title,prod_descr.text,prod_color.text,prod_ref.text, price, available_size,prod_image]\n",
    "        except:\n",
    "            features=[\"\",\"\",\"\",\"\",\"\",\"\",\"\"]\n",
    "        return features\n",
    "    \n",
    "    def get_attrs(self,webelement, attr='href'): \n",
    "        try: \n",
    "            return webelement.get_attribute(attr)\n",
    "        except: \n",
    "            return \"\"\n",
    "    \n",
    "    def get_list(self): # List of urls para vestidos\n",
    "        driver = webdriver.Chrome((ChromeDriverManager().install()))\n",
    "        driver.get(self.url)\n",
    "        source_data = driver.page_source\n",
    "        elem = driver.find_element_by_tag_name(\"body\")\n",
    "\n",
    "        no_of_pagedowns = 600\n",
    "\n",
    "        res = []\n",
    "\n",
    "        while no_of_pagedowns:\n",
    "            print(no_of_pagedowns)\n",
    "            elem.send_keys(Keys.PAGE_DOWN)\n",
    "            time.sleep(0.2)\n",
    "            no_of_pagedowns-=1\n",
    "        div = driver.find_elements_by_class_name('product-info-item')\n",
    "        for i in div:\n",
    "            b=i.find_elements_by_css_selector('a')\n",
    "            for c in b:\n",
    "                res.append(c)\n",
    "        return [self.get_attrs(e, 'href') for e in res]\n",
    "\n",
    "    def loop_it(self): # Iterates over the url root. \n",
    "        iterable = self.get_list()\n",
    "        for e in iterable:\n",
    "            print (len(self.product_list))\n",
    "            self.product_list.append(self.get_info(e))\n",
    "            time.sleep(3)\n",
    "        return self.product_list\n",
    "    \n",
    "url_vestidos = 'https://www.zara.com/uk/en/woman-dresses-l1066.html?v1=1180427' # Scrapea sólo vestidos\n",
    "\n",
    "# Assigns the Zarascrape class for dresses to an object\n",
    "vestidos_ls = Zarascrape(url_vestidos)\n",
    "\n",
    "# Launches the class method\n",
    "data_vestidos = vestidos_ls.loop_it()\n",
    "\n",
    "print(len(data_vestidos))\n",
    "data_vestidos[:5]"
   ]
  },
  {
   "cell_type": "code",
   "execution_count": 3,
   "metadata": {},
   "outputs": [],
   "source": [
    "# Saves the df into a .csv\n",
    "zara_base = pd.DataFrame(data_vestidos)"
   ]
  },
  {
   "cell_type": "code",
   "execution_count": 13,
   "metadata": {},
   "outputs": [
    {
     "data": {
      "text/html": [
       "<div>\n",
       "<style scoped>\n",
       "    .dataframe tbody tr th:only-of-type {\n",
       "        vertical-align: middle;\n",
       "    }\n",
       "\n",
       "    .dataframe tbody tr th {\n",
       "        vertical-align: top;\n",
       "    }\n",
       "\n",
       "    .dataframe thead th {\n",
       "        text-align: right;\n",
       "    }\n",
       "</style>\n",
       "<table border=\"1\" class=\"dataframe\">\n",
       "  <thead>\n",
       "    <tr style=\"text-align: right;\">\n",
       "      <th></th>\n",
       "      <th>0</th>\n",
       "      <th>1</th>\n",
       "      <th>2</th>\n",
       "      <th>3</th>\n",
       "      <th>4</th>\n",
       "      <th>5</th>\n",
       "      <th>6</th>\n",
       "    </tr>\n",
       "  </thead>\n",
       "  <tbody>\n",
       "    <tr>\n",
       "      <th>438</th>\n",
       "      <td>CONTRAST LACE DRESS Details</td>\n",
       "      <td>A-line long sleeve dress with a round neckline...</td>\n",
       "      <td>Black</td>\n",
       "      <td>0858/456</td>\n",
       "      <td>39.99</td>\n",
       "      <td>[S, M, L]</td>\n",
       "      <td>static.zara.net/photos///2019/V/0/1/p/0858/456...</td>\n",
       "    </tr>\n",
       "  </tbody>\n",
       "</table>\n",
       "</div>"
      ],
      "text/plain": [
       "                               0  \\\n",
       "438  CONTRAST LACE DRESS Details   \n",
       "\n",
       "                                                     1      2         3  \\\n",
       "438  A-line long sleeve dress with a round neckline...  Black  0858/456   \n",
       "\n",
       "         4          5                                                  6  \n",
       "438  39.99  [S, M, L]  static.zara.net/photos///2019/V/0/1/p/0858/456...  "
      ]
     },
     "execution_count": 13,
     "metadata": {},
     "output_type": "execute_result"
    }
   ],
   "source": [
    "zara_base[zara_base[3]=='0858/456']"
   ]
  },
  {
   "cell_type": "code",
   "execution_count": 7,
   "metadata": {},
   "outputs": [
    {
     "data": {
      "text/plain": [
       "(634, 7)"
      ]
     },
     "execution_count": 7,
     "metadata": {},
     "output_type": "execute_result"
    }
   ],
   "source": [
    "zara_base.shape"
   ]
  },
  {
   "cell_type": "code",
   "execution_count": 8,
   "metadata": {},
   "outputs": [],
   "source": [
    "# Saves the df into a .csv\n",
    "zara_dresses = zara_base.to_csv(\"zara2.csv\", index=False)"
   ]
  },
  {
   "cell_type": "code",
   "execution_count": null,
   "metadata": {},
   "outputs": [],
   "source": []
  }
 ],
 "metadata": {
  "kernelspec": {
   "display_name": "Python 3",
   "language": "python",
   "name": "python3"
  },
  "language_info": {
   "codemirror_mode": {
    "name": "ipython",
    "version": 3
   },
   "file_extension": ".py",
   "mimetype": "text/x-python",
   "name": "python",
   "nbconvert_exporter": "python",
   "pygments_lexer": "ipython3",
   "version": "3.7.2"
  }
 },
 "nbformat": 4,
 "nbformat_minor": 2
}
