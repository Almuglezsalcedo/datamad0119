{
 "cells": [
  {
   "cell_type": "code",
   "execution_count": 5,
   "metadata": {},
   "outputs": [],
   "source": [
    "import requests\n",
    "from bs4 import BeautifulSoup\n",
    "import numpy as np\n",
    "import time"
   ]
  },
  {
   "cell_type": "markdown",
   "metadata": {},
   "source": [
    "### Web scraping de www.zara.com"
   ]
  },
  {
   "cell_type": "markdown",
   "metadata": {},
   "source": [
    "Sacamos una lista con todas las urls de todos los items de la sección vestidos de la web de Zara"
   ]
  },
  {
   "cell_type": "code",
   "execution_count": 6,
   "metadata": {
    "scrolled": false
   },
   "outputs": [],
   "source": [
    "url = 'https://www.zara.com/es/es/mujer-vestidos-l1066.html?v1=1180427'\n",
    "html = requests.get(url).content\n",
    "soup = BeautifulSoup(html, \"lxml\")"
   ]
  },
  {
   "cell_type": "code",
   "execution_count": 7,
   "metadata": {},
   "outputs": [],
   "source": [
    "table = soup.find_all('a',{'class':'area'})\n",
    "lista = [e.get(\"href\") for e in table]"
   ]
  },
  {
   "cell_type": "code",
   "execution_count": 12,
   "metadata": {},
   "outputs": [
    {
     "data": {
      "text/plain": [
       "[<a class=\"area\" data-idx=\"0\" href=\"https://www.zara.com/es/es/vestido-encaje-p01639056.html?v1=8167083&amp;v2=1180427\" style=\"left:40%;top:70%;width:21%;height:30%\"></a>,\n",
       " <a class=\"area\" data-idx=\"1\" href=\"https://www.zara.com/es/es/vestido-encaje-p01639056.html?v1=8167083&amp;v2=1180427\" style=\"left:0%;top:29%;width:21%;height:71%\"></a>,\n",
       " <a class=\"area\" data-idx=\"0\" href=\"https://www.zara.com/es/es/vestido-bolsillos-p02208805.html?v1=9895917&amp;v2=1180427\" style=\"left:66%;top:0%;width:34%;height:100%\"></a>,\n",
       " <a class=\"area\" data-idx=\"1\" href=\"https://www.zara.com/es/es/vestido-bolsillos-p02208805.html?v1=9895916&amp;v2=1180427\" style=\"left:40%;top:0%;width:25%;height:100%\"></a>,\n",
       " <a class=\"area\" data-idx=\"2\" href=\"https://www.zara.com/es/es/vestido-camisero-p02208960.html?v1=8668646&amp;v2=1180427\" style=\"left:0%;top:2%;width:32%;height:98%\"></a>,\n",
       " <a class=\"area\" data-idx=\"0\" href=\"https://www.zara.com/es/es/vestido-lentejuelas-p09598018.html?v1=8275573&amp;v2=1180427\" style=\"left:0%;top:0%;width:100%;height:100%\"></a>,\n",
       " <a class=\"area\" data-idx=\"0\" href=\"https://www.zara.com/es/es/blusa-plisado-combinado-p02731243.html?v1=8805787&amp;v2=1180427\" style=\"left:0%;top:0%;width:100%;height:100%\"></a>,\n",
       " <a class=\"area\" data-idx=\"0\" href=\"https://www.zara.com/es/es/vestido-bordados-perforados-p04437065.html?v1=10558872&amp;v2=1180427\" style=\"left:0%;top:0%;width:100%;height:100%\"></a>,\n",
       " <a class=\"area\" data-idx=\"0\" href=\"https://www.zara.com/es/es/vestido-manga-abullonada-p02162002.html?v1=8503619&amp;v2=1180427\" style=\"left:0%;top:0%;width:100%;height:100%\"></a>,\n",
       " <a class=\"area\" data-idx=\"0\" href=\"https://www.zara.com/es/es/vestido-manga-abullonada-p02162002.html?v1=8503619&amp;v2=1180427\" style=\"left:0%;top:0%;width:100%;height:100%\"></a>,\n",
       " <a class=\"area\" data-idx=\"0\" href=\"https://www.zara.com/es/es/vestido-perforado-bordado-p00718101.html?v1=8228106&amp;v2=1180427\" style=\"left:0%;top:0%;width:100%;height:100%\"></a>,\n",
       " <a class=\"area\" data-idx=\"0\" href=\"https://www.zara.com/es/es/vestido-corto-volante-p02242063.html?v1=8503633&amp;v2=1180427\" style=\"left:0%;top:0%;width:100%;height:100%\"></a>,\n",
       " <a class=\"area\" data-idx=\"0\" href=\"https://www.zara.com/es/es/vestido-manga-abullonada-p02468041.html?v1=8768142&amp;v2=1180427\" style=\"left:0%;top:0%;width:100%;height:100%\"></a>,\n",
       " <a class=\"area\" data-idx=\"0\" href=\"https://www.zara.com/es/es/vestido-estampado-floral-p02452747.html?v1=8825559&amp;v2=1180427\" style=\"left:0%;top:0%;width:100%;height:100%\"></a>,\n",
       " <a class=\"area\" data-idx=\"0\" href=\"https://www.zara.com/es/es/vestido-plisado-p04222040.html?v1=8190595&amp;v2=1180427\" style=\"left:0%;top:0%;width:100%;height:100%\"></a>,\n",
       " <a class=\"area\" data-idx=\"0\" href=\"https://www.zara.com/es/es/vestido-manga-capa-p02576840.html?v1=11952110&amp;v2=1180427\" style=\"left:0%;top:0%;width:100%;height:100%\"></a>,\n",
       " <a class=\"area\" data-idx=\"0\" href=\"https://www.zara.com/es/es/vestido-plisado-estampado-floral-p07521045.html?v1=8190539&amp;v2=1180427\" style=\"left:0%;top:0%;width:100%;height:100%\"></a>,\n",
       " <a class=\"area\" data-idx=\"0\" href=\"https://www.zara.com/es/es/vestido-punto-bicolor-p04978008.html?v1=8552615&amp;v2=1180427\" style=\"left:0%;top:0%;width:100%;height:100%\"></a>,\n",
       " <a class=\"area\" data-idx=\"0\" href=\"https://www.zara.com/es/es/vestido-camisero-bordados-p04786073.html?v1=8351174&amp;v2=1180427\" style=\"left:0%;top:0%;width:100%;height:100%\"></a>,\n",
       " <a class=\"area\" data-idx=\"0\" href=\"https://www.zara.com/es/es/vestido-camisero-bordados-p04786073.html?v1=8351174&amp;v2=1180427\" style=\"left:60%;top:29%;width:21%;height:42%\"></a>,\n",
       " <a class=\"area\" data-idx=\"1\" href=\"https://www.zara.com/es/es/vestido-plisado-estampado-floral-p07521045.html?v1=11766901&amp;v2=1180427\" style=\"left:40%;top:29%;width:21%;height:41%\"></a>,\n",
       " <a class=\"area\" data-idx=\"2\" href=\"https://www.zara.com/es/es/vestido-plisado-estampado-floral-p07521045.html?v1=11766901&amp;v2=1180427\" style=\"left:0%;top:28%;width:19%;height:42%\"></a>,\n",
       " <a class=\"area\" data-idx=\"3\" href=\"https://www.zara.com/es/es/vestido-estampado-combinado-p07521041.html?v1=11766899&amp;v2=1180427\" style=\"left:80%;top:29%;width:20%;height:41%\"></a>,\n",
       " <a class=\"area\" data-idx=\"4\" href=\"https://www.zara.com/es/es/vestido-estampado-combinado-p07521041.html?v1=11766899&amp;v2=1180427\" style=\"left:19%;top:29%;width:21%;height:41%\"></a>,\n",
       " <a class=\"area\" data-idx=\"0\" href=\"https://www.zara.com/es/es/vestido-largo-oversize-p07986024.html?v1=11767427&amp;v2=1180427\" style=\"left:0%;top:0%;width:100%;height:100%\"></a>,\n",
       " <a class=\"area\" data-idx=\"0\" href=\"https://www.zara.com/es/es/vestido-lunares-plisado-p01165065.html?v1=12010873&amp;v2=1180427\" style=\"left:0%;top:0%;width:100%;height:100%\"></a>,\n",
       " <a class=\"area\" data-idx=\"0\" href=\"https://www.zara.com/es/es/vestido-z1975-botones-p09951022.html?v1=8142514&amp;v2=1180427\" style=\"left:0%;top:0%;width:100%;height:100%\"></a>,\n",
       " <a class=\"area\" data-idx=\"0\" href=\"https://www.zara.com/es/es/t%C3%BAnica-estampado-floral-cintur%C3%B3n-p02264691.html?v1=10897226&amp;v2=1180427\" style=\"left:40%;top:29%;width:20%;height:41%\"></a>,\n",
       " <a class=\"area\" data-idx=\"1\" href=\"https://www.zara.com/es/es/t%C3%BAnica-estampado-floral-cintur%C3%B3n-p02264691.html?v1=10897744&amp;v2=1180427\" style=\"left:0%;top:29%;width:19%;height:42%\"></a>,\n",
       " <a class=\"area\" data-idx=\"2\" href=\"https://www.zara.com/es/es/vestido-estampado-plumeti-p05598050.html?v1=7887642&amp;v2=1180427\" style=\"left:60%;top:30%;width:21%;height:41%\"></a>,\n",
       " <a class=\"area\" data-idx=\"3\" href=\"https://www.zara.com/es/es/vestido-estampado-floral-p02273686.html?v1=10897227&amp;v2=1180427\" style=\"left:80%;top:30%;width:20%;height:41%\"></a>,\n",
       " <a class=\"area\" data-idx=\"4\" href=\"https://www.zara.com/es/es/vestido-estampado-floral-p02273686.html?v1=10897227&amp;v2=1180427\" style=\"left:20%;top:30%;width:20%;height:41%\"></a>,\n",
       " <a class=\"area\" data-idx=\"0\" href=\"https://www.zara.com/es/es/vestido-punto-flecos-p02488116.html?v1=10952101&amp;v2=1180427\" style=\"left:0%;top:0%;width:100%;height:100%\"></a>,\n",
       " <a class=\"area\" data-idx=\"0\" href=\"https://www.zara.com/es/es/pendientes-colgantes-hojas-p04736229.html?v1=7887436&amp;v2=1180427\" style=\"left:0%;top:0%;width:100%;height:100%\"></a>,\n",
       " <a class=\"area\" data-idx=\"0\" href=\"https://www.zara.com/es/es/mono-plisado-tirantes-p04786060.html?v1=8202613&amp;v2=1180427\" style=\"left:0%;top:0%;width:101%;height:101%\"></a>,\n",
       " <a class=\"area\" data-idx=\"0\" href=\"https://www.zara.com/es/es/vestido-volantes-p02283693.html?v1=8948134&amp;v2=1180427\" style=\"left:0%;top:0%;width:101%;height:100%\"></a>,\n",
       " <a class=\"area\" data-idx=\"0\" href=\"https://www.zara.com/es/es/vestido-estampado-p02300382.html?v1=8582728&amp;v2=1180427\" style=\"left:0%;top:0%;width:101%;height:101%\"></a>,\n",
       " <a class=\"area\" data-idx=\"0\" href=\"https://www.zara.com/es/es/vestido-estampado-manga-volante-p02271674.html?v1=9647061&amp;v2=1180427\" style=\"left:41%;top:72%;width:18%;height:28%\"></a>,\n",
       " <a class=\"area\" data-idx=\"1\" href=\"https://www.zara.com/es/es/vestido-estampado-manga-volante-p02271674.html?v1=9647061&amp;v2=1180427\" style=\"left:20%;top:30%;width:19%;height:41%\"></a>,\n",
       " <a class=\"area\" data-idx=\"2\" href=\"https://www.zara.com/es/es/vestido-estampado-floral-p04786049.html?v1=8086581&amp;v2=1180427\" style=\"left:82%;top:71%;width:18%;height:29%\"></a>,\n",
       " <a class=\"area\" data-idx=\"3\" href=\"https://www.zara.com/es/es/vestido-estampado-floral-p04786049.html?v1=8086581&amp;v2=1180427\" style=\"left:61%;top:31%;width:19%;height:39%\"></a>,\n",
       " <a class=\"area\" data-idx=\"4\" href=\"https://www.zara.com/es/es/vestido-estampado-floral-p04786049.html?v1=8086581&amp;v2=1180427\" style=\"left:20%;top:71%;width:19%;height:29%\"></a>,\n",
       " <a class=\"area\" data-idx=\"5\" href=\"https://www.zara.com/es/es/vestido-estampado-floral-p04786049.html?v1=8086581&amp;v2=1180427\" style=\"left:0%;top:0%;width:19%;height:30%\"></a>,\n",
       " <a class=\"area\" data-idx=\"6\" href=\"https://www.zara.com/es/es/vestido-estampado-floral-p03198043.html?v1=9953415&amp;v2=1180427\" style=\"left:20%;top:0%;width:19%;height:29%\"></a>,\n",
       " <a class=\"area\" data-idx=\"7\" href=\"https://www.zara.com/es/es/vestido-estampado-floral-p03198043.html?v1=9953415&amp;v2=1180427\" style=\"left:40%;top:31%;width:20%;height:39%\"></a>,\n",
       " <a class=\"area\" data-idx=\"8\" href=\"https://www.zara.com/es/es/vestido-estampado-floral-p04786057.html?v1=9953420&amp;v2=1180427\" style=\"left:41%;top:0%;width:18%;height:28%\"></a>,\n",
       " <a class=\"area\" data-idx=\"9\" href=\"https://www.zara.com/es/es/vestido-estampado-floral-p04786057.html?v1=9953420&amp;v2=1180427\" style=\"left:0%;top:30%;width:19%;height:70%\"></a>,\n",
       " <a class=\"area\" data-idx=\"0\" href=\"https://www.zara.com/es/es/vestido-lunares-cintur%C3%B3n-p01165058.html?v1=9237941&amp;v2=1180427\" style=\"left:0%;top:0%;width:100%;height:100%\"></a>,\n",
       " <a class=\"area\" data-idx=\"0\" href=\"https://www.zara.com/es/es/vestido-combinado-lavado-p00858007.html?v1=8287587&amp;v2=1180427\" style=\"left:0%;top:0%;width:100%;height:100%\"></a>,\n",
       " <a class=\"area\" data-idx=\"0\" href=\"https://www.zara.com/es/es/vestido-texto-mangas-combinadas-p05410155.html?v1=8461265&amp;v2=1180427\" style=\"left:0%;top:0%;width:100%;height:100%\"></a>,\n",
       " <a class=\"area\" data-idx=\"0\" href=\"https://www.zara.com/es/es/vestido-botones-p02194842.html?v1=8489149&amp;v2=1180427\" style=\"left:0%;top:0%;width:101%;height:101%\"></a>,\n",
       " <a class=\"area\" data-idx=\"0\" href=\"https://www.zara.com/es/es/vestido-canal%C3%A9-p03471008.html?v1=8275501&amp;v2=1180427\" style=\"left:0%;top:0%;width:50%;height:100%\"></a>]"
      ]
     },
     "execution_count": 12,
     "metadata": {},
     "output_type": "execute_result"
    }
   ],
   "source": [
    "table"
   ]
  },
  {
   "cell_type": "code",
   "execution_count": 6,
   "metadata": {},
   "outputs": [
    {
     "data": {
      "text/plain": [
       "['https://www.zara.com/es/es/vestido-encaje-p01639056.html?v1=8167083&v2=1180427',\n",
       " 'https://www.zara.com/es/es/vestido-encaje-p01639056.html?v1=8167083&v2=1180427',\n",
       " 'https://www.zara.com/es/es/vestido-bolsillos-p02208805.html?v1=9895917&v2=1180427',\n",
       " 'https://www.zara.com/es/es/vestido-bolsillos-p02208805.html?v1=9895916&v2=1180427',\n",
       " 'https://www.zara.com/es/es/vestido-camisero-p02208960.html?v1=8668646&v2=1180427',\n",
       " 'https://www.zara.com/es/es/vestido-lentejuelas-p09598018.html?v1=8275573&v2=1180427',\n",
       " 'https://www.zara.com/es/es/blusa-plisado-combinado-p02731243.html?v1=8805787&v2=1180427',\n",
       " 'https://www.zara.com/es/es/vestido-bordados-perforados-p04437065.html?v1=10558872&v2=1180427',\n",
       " 'https://www.zara.com/es/es/vestido-manga-abullonada-p02162002.html?v1=8503619&v2=1180427',\n",
       " 'https://www.zara.com/es/es/vestido-manga-abullonada-p02162002.html?v1=8503619&v2=1180427',\n",
       " 'https://www.zara.com/es/es/vestido-perforado-bordado-p00718101.html?v1=8228106&v2=1180427',\n",
       " 'https://www.zara.com/es/es/vestido-corto-volante-p02242063.html?v1=8503633&v2=1180427',\n",
       " 'https://www.zara.com/es/es/vestido-manga-abullonada-p02468041.html?v1=8768142&v2=1180427',\n",
       " 'https://www.zara.com/es/es/vestido-estampado-floral-p02452747.html?v1=8825559&v2=1180427',\n",
       " 'https://www.zara.com/es/es/vestido-plisado-p04222040.html?v1=8190595&v2=1180427',\n",
       " 'https://www.zara.com/es/es/vestido-manga-capa-p02576840.html?v1=11952110&v2=1180427',\n",
       " 'https://www.zara.com/es/es/vestido-plisado-estampado-floral-p07521045.html?v1=8190539&v2=1180427',\n",
       " 'https://www.zara.com/es/es/vestido-punto-bicolor-p04978008.html?v1=8552615&v2=1180427',\n",
       " 'https://www.zara.com/es/es/vestido-camisero-bordados-p04786073.html?v1=8351174&v2=1180427',\n",
       " 'https://www.zara.com/es/es/vestido-camisero-bordados-p04786073.html?v1=8351174&v2=1180427',\n",
       " 'https://www.zara.com/es/es/vestido-plisado-estampado-floral-p07521045.html?v1=11766901&v2=1180427',\n",
       " 'https://www.zara.com/es/es/vestido-plisado-estampado-floral-p07521045.html?v1=11766901&v2=1180427',\n",
       " 'https://www.zara.com/es/es/vestido-estampado-combinado-p07521041.html?v1=11766899&v2=1180427',\n",
       " 'https://www.zara.com/es/es/vestido-estampado-combinado-p07521041.html?v1=11766899&v2=1180427',\n",
       " 'https://www.zara.com/es/es/vestido-largo-oversize-p07986024.html?v1=11767427&v2=1180427',\n",
       " 'https://www.zara.com/es/es/vestido-lunares-plisado-p01165065.html?v1=12010873&v2=1180427',\n",
       " 'https://www.zara.com/es/es/vestido-z1975-botones-p09951022.html?v1=8142514&v2=1180427',\n",
       " 'https://www.zara.com/es/es/t%C3%BAnica-estampado-floral-cintur%C3%B3n-p02264691.html?v1=10897226&v2=1180427',\n",
       " 'https://www.zara.com/es/es/t%C3%BAnica-estampado-floral-cintur%C3%B3n-p02264691.html?v1=10897744&v2=1180427',\n",
       " 'https://www.zara.com/es/es/vestido-estampado-plumeti-p05598050.html?v1=7887642&v2=1180427',\n",
       " 'https://www.zara.com/es/es/vestido-estampado-floral-p02273686.html?v1=10897227&v2=1180427',\n",
       " 'https://www.zara.com/es/es/vestido-estampado-floral-p02273686.html?v1=10897227&v2=1180427',\n",
       " 'https://www.zara.com/es/es/vestido-punto-flecos-p02488116.html?v1=10952101&v2=1180427',\n",
       " 'https://www.zara.com/es/es/pendientes-colgantes-hojas-p04736229.html?v1=7887436&v2=1180427',\n",
       " 'https://www.zara.com/es/es/mono-plisado-tirantes-p04786060.html?v1=8202613&v2=1180427',\n",
       " 'https://www.zara.com/es/es/vestido-volantes-p02283693.html?v1=8948134&v2=1180427',\n",
       " 'https://www.zara.com/es/es/vestido-estampado-p02300382.html?v1=8582728&v2=1180427',\n",
       " 'https://www.zara.com/es/es/vestido-largo-canal%C3%A9-p03471005.html?v1=8560003&v2=1180427',\n",
       " 'https://www.zara.com/es/es/vestido-estampado-manga-volante-p02271674.html?v1=9647061&v2=1180427',\n",
       " 'https://www.zara.com/es/es/vestido-estampado-manga-volante-p02271674.html?v1=9647061&v2=1180427',\n",
       " 'https://www.zara.com/es/es/vestido-estampado-floral-p04786049.html?v1=8086581&v2=1180427',\n",
       " 'https://www.zara.com/es/es/vestido-estampado-floral-p04786049.html?v1=8086581&v2=1180427',\n",
       " 'https://www.zara.com/es/es/vestido-estampado-floral-p04786049.html?v1=8086581&v2=1180427',\n",
       " 'https://www.zara.com/es/es/vestido-estampado-floral-p04786049.html?v1=8086581&v2=1180427',\n",
       " 'https://www.zara.com/es/es/vestido-estampado-floral-p03198043.html?v1=9953415&v2=1180427',\n",
       " 'https://www.zara.com/es/es/vestido-estampado-floral-p03198043.html?v1=9953415&v2=1180427',\n",
       " 'https://www.zara.com/es/es/vestido-estampado-floral-p04786057.html?v1=9953420&v2=1180427',\n",
       " 'https://www.zara.com/es/es/vestido-estampado-floral-p04786057.html?v1=9953420&v2=1180427',\n",
       " 'https://www.zara.com/es/es/vestido-lunares-cintur%C3%B3n-p01165058.html?v1=9237941&v2=1180427',\n",
       " 'https://www.zara.com/es/es/vestido-combinado-lavado-p00858007.html?v1=8287587&v2=1180427',\n",
       " 'https://www.zara.com/es/es/vestido-texto-mangas-combinadas-p05410155.html?v1=8461265&v2=1180427',\n",
       " 'https://www.zara.com/es/es/vestido-botones-p02194842.html?v1=8489149&v2=1180427',\n",
       " 'https://www.zara.com/es/es/vestido-canal%C3%A9-p03471008.html?v1=7982572&v2=1180427',\n",
       " 'https://www.zara.com/es/es/vestido-canal%C3%A9-p03471008.html?v1=8275501&v2=1180427']"
      ]
     },
     "execution_count": 6,
     "metadata": {},
     "output_type": "execute_result"
    }
   ],
   "source": [
    "lista"
   ]
  },
  {
   "cell_type": "code",
   "execution_count": null,
   "metadata": {},
   "outputs": [],
   "source": []
  }
 ],
 "metadata": {
  "kernelspec": {
   "display_name": "Python 3",
   "language": "python",
   "name": "python3"
  },
  "language_info": {
   "codemirror_mode": {
    "name": "ipython",
    "version": 3
   },
   "file_extension": ".py",
   "mimetype": "text/x-python",
   "name": "python",
   "nbconvert_exporter": "python",
   "pygments_lexer": "ipython3",
   "version": "3.7.2"
  }
 },
 "nbformat": 4,
 "nbformat_minor": 2
}
