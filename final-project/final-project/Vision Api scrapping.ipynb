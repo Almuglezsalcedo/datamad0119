{
 "cells": [
  {
   "cell_type": "code",
   "execution_count": 4,
   "metadata": {},
   "outputs": [],
   "source": [
    "import io\n",
    "import os\n",
    "from google.cloud import vision\n",
    "from google.cloud.vision import types"
   ]
  },
  {
   "cell_type": "code",
   "execution_count": 5,
   "metadata": {},
   "outputs": [],
   "source": [
    "#set the GOOGLE_APPLICATION_CREDENTIALS environment variable\n",
    "os.environ[\"GOOGLE_APPLICATION_CREDENTIALS\"]=\"./healthy-feat-234911-0b9642033688.json\""
   ]
  },
  {
   "cell_type": "code",
   "execution_count": 6,
   "metadata": {},
   "outputs": [
    {
     "data": {
      "text/plain": [
       "{'Dress': '98.83',\n",
       " 'Day dress': '98.35',\n",
       " 'Clothing': '98.24',\n",
       " 'Pattern': '92.65',\n",
       " 'Polka dot': '85.97',\n",
       " 'Brown': '82.45',\n",
       " 'Cocktail dress': '80.73',\n",
       " 'Design': '79.05',\n",
       " 'Gown': '62.45',\n",
       " 'Neck': '59.91'}"
      ]
     },
     "execution_count": 6,
     "metadata": {},
     "output_type": "execute_result"
    }
   ],
   "source": [
    "def detect_labels(uri):\n",
    "    from google.cloud import vision\n",
    "    from google.cloud.vision import types\n",
    "    label_dict={}\n",
    "    client = vision.ImageAnnotatorClient()\n",
    "    image = vision.types.Image()\n",
    "    image.source.image_uri = uri\n",
    "    # Call client.image_properties with as (image=image) argument.\n",
    "    response = client.label_detection(image=image)\n",
    "    # Store the response of image_properties() in a variable response\n",
    "    labels = response.label_annotations\n",
    "\n",
    "    for label in labels:\n",
    "            scores = format(float(format(float(label.score),'.4f'))*100,'.2f')\n",
    "            label_dict[label.description] = scores\n",
    "    return label_dict\n",
    "\n",
    "detect_labels('https://cdn-images.farfetch-contents.com/13/36/21/03/13362103_15522541_300.jpg')"
   ]
  },
  {
   "cell_type": "code",
   "execution_count": null,
   "metadata": {},
   "outputs": [],
   "source": []
  }
 ],
 "metadata": {
  "kernelspec": {
   "display_name": "Python 3",
   "language": "python",
   "name": "python3"
  },
  "language_info": {
   "codemirror_mode": {
    "name": "ipython",
    "version": 3
   },
   "file_extension": ".py",
   "mimetype": "text/x-python",
   "name": "python",
   "nbconvert_exporter": "python",
   "pygments_lexer": "ipython3",
   "version": "3.7.2"
  }
 },
 "nbformat": 4,
 "nbformat_minor": 2
}
