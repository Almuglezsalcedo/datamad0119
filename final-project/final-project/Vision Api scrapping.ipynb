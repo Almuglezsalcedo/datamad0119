{
 "cells": [
  {
   "cell_type": "code",
   "execution_count": 1,
   "metadata": {},
   "outputs": [],
   "source": [
    "import io\n",
    "import os\n",
    "from google.cloud import vision\n",
    "from google.cloud.vision import types\n",
    "import pandas as pd"
   ]
  },
  {
   "cell_type": "code",
   "execution_count": 2,
   "metadata": {},
   "outputs": [],
   "source": [
    "#set the GOOGLE_APPLICATION_CREDENTIALS environment variable\n",
    "os.environ[\"GOOGLE_APPLICATION_CREDENTIALS\"]=\"./healthy-feat-234911-0b9642033688.json\""
   ]
  },
  {
   "cell_type": "code",
   "execution_count": null,
   "metadata": {},
   "outputs": [],
   "source": [
    "class visionscrape:\n",
    "    \n",
    "    def __init__ (self, url): # Declaro las variables self de la clase\n",
    "        self.url = url\n",
    "\n",
    "    def detect_tags(self):\n",
    "        tags=[]\n",
    "        label_dict={}\n",
    "        client = vision.ImageAnnotatorClient()\n",
    "        image = vision.types.Image()\n",
    "        image.source.image_uri = url\n",
    "        # Call client.label_detection and web_detection with as (image=image) argument.\n",
    "        response = client.label_detection(image=image)\n",
    "        response2 = client.web_detection(image=image)\n",
    "        # Store the response in a variable response\n",
    "        labels = response.label_annotations\n",
    "        webs = response2.web_detection\n",
    "        \n",
    "        for web in webs.web_entities:\n",
    "            tags.append(web.description)     \n",
    "            \n",
    "        for label in labels:\n",
    "            tags.append(label.description)\n",
    "\n",
    "        return tags        \n",
    "        \n",
    "url='https://cdn-images.farfetch-contents.com/13/36/21/03/13362103_15522541_300.jpg'\n",
    "vestido_farfetch=visionscrape(url)\n",
    "\n",
    "labels_farfetch=vestido_farfetch.detect_tags()\n",
    "labels_farfetch"
   ]
  },
  {
   "cell_type": "code",
   "execution_count": null,
   "metadata": {},
   "outputs": [],
   "source": []
  }
 ],
 "metadata": {
  "kernelspec": {
   "display_name": "Python 3",
   "language": "python",
   "name": "python3"
  },
  "language_info": {
   "codemirror_mode": {
    "name": "ipython",
    "version": 3
   },
   "file_extension": ".py",
   "mimetype": "text/x-python",
   "name": "python",
   "nbconvert_exporter": "python",
   "pygments_lexer": "ipython3",
   "version": "3.7.2"
  }
 },
 "nbformat": 4,
 "nbformat_minor": 2
}
