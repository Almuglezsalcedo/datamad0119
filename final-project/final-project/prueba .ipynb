{
 "cells": [
  {
   "cell_type": "code",
   "execution_count": 7,
   "metadata": {},
   "outputs": [
    {
     "name": "stdout",
     "output_type": "stream",
     "text": [
      "which dress do you like? please, insert the linkhttps://cdn-images.farfetch-contents.com/13/43/91/61/13439161_16412251_300.jpg\n",
      "{'Clothing': '99.08', 'Dress': '98.83', 'Day dress': '96.97', 'White': '95.94', 'Blue': '94.45', 'Bridal party dress': '88.11', 'A-line': '86.79', 'Cocktail dress': '85.81', 'Gown': '85.61', 'Aqua': '84.58'}\n"
     ]
    }
   ],
   "source": [
    "uri=input(\"which dress do you like? please, insert the link\")\n",
    "import io\n",
    "import os\n",
    "from google.cloud import vision\n",
    "from google.cloud.vision import types\n",
    "import pandas as pd\n",
    "os.environ[\"GOOGLE_APPLICATION_CREDENTIALS\"]=\"./healthy-feat-234911-0b9642033688.json\"\n",
    "label_dict={}\n",
    "client = vision.ImageAnnotatorClient()\n",
    "image = vision.types.Image()\n",
    "image.source.image_uri = uri\n",
    "# Call client.image_properties with as (image=image) argument.\n",
    "response = client.label_detection(image=image)\n",
    "# Store the response of image_properties() in a variable response\n",
    "labels = response.label_annotations\n",
    "\n",
    "for label in labels:\n",
    "        scores = format(float(format(float(label.score),'.4f'))*100,'.2f')\n",
    "        label_dict[label.description] = scores\n",
    "print(label_dict)\n"
   ]
  },
  {
   "cell_type": "code",
   "execution_count": null,
   "metadata": {},
   "outputs": [],
   "source": []
  }
 ],
 "metadata": {
  "kernelspec": {
   "display_name": "Python 3",
   "language": "python",
   "name": "python3"
  },
  "language_info": {
   "codemirror_mode": {
    "name": "ipython",
    "version": 3
   },
   "file_extension": ".py",
   "mimetype": "text/x-python",
   "name": "python",
   "nbconvert_exporter": "python",
   "pygments_lexer": "ipython3",
   "version": "3.7.2"
  }
 },
 "nbformat": 4,
 "nbformat_minor": 2
}
