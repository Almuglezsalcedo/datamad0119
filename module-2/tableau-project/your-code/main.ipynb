{
 "cells": [
  {
   "cell_type": "code",
   "execution_count": 6,
   "metadata": {},
   "outputs": [],
   "source": [
    "import pymongo\n",
    "MongoClient = pymongo.MongoClient\n",
    "client = MongoClient()\n",
    "db = client.companies"
   ]
  },
  {
   "cell_type": "code",
   "execution_count": 14,
   "metadata": {},
   "outputs": [],
   "source": [
    "cursor=db.companies.aggregate([\n",
    "    {'$match': \n",
    "     {'$and': [ \n",
    "        {'category_code': {'$in': [\"web\",\"software\",\"games_video\"]}},\n",
    "        {'founded_year':{'$gte':2008}},\n",
    "        {'deadpooled_year': None },\n",
    "        {\"offices.latitude\":{'$ne': None}},\n",
    "        {\"number_of_employees\":{'$ne': None}},\n",
    "    ]}},\n",
    "    { '$unwind': \"$offices\" },\n",
    "    { '$project' : {\n",
    "        \"name\" : 1,\n",
    "        \"category_code\": 1,\n",
    "        \"founded_year\": 1,\n",
    "        \"description\":1,\n",
    "        \"money_raised\":1,\n",
    "        \"number_of_employees\":1,\n",
    "        \"offices.latitude\": 1,\n",
    "        \"offices.longitude\":1\n",
    "    }}])\n",
    "\n",
    "Comp=list(cursor)"
   ]
  },
  {
   "cell_type": "code",
   "execution_count": 16,
   "metadata": {},
   "outputs": [
    {
     "ename": "OperationFailure",
     "evalue": "$arrayElemAt's first argument must be an array, but is object",
     "output_type": "error",
     "traceback": [
      "\u001b[0;31m---------------------------------------------------------------------------\u001b[0m",
      "\u001b[0;31mOperationFailure\u001b[0m                          Traceback (most recent call last)",
      "\u001b[0;32m<ipython-input-16-f494be81a6a9>\u001b[0m in \u001b[0;36m<module>\u001b[0;34m\u001b[0m\n\u001b[1;32m     19\u001b[0m         \u001b[0;31m#\"countycode\": { '$arrayElemAt': [ \"$offices\", 6 ] },\u001b[0m\u001b[0;34m\u001b[0m\u001b[0;34m\u001b[0m\u001b[0;34m\u001b[0m\u001b[0m\n\u001b[1;32m     20\u001b[0m         \u001b[0;34m\"latitude\"\u001b[0m\u001b[0;34m:\u001b[0m \u001b[0;34m{\u001b[0m \u001b[0;34m'$arrayElemAt'\u001b[0m\u001b[0;34m:\u001b[0m \u001b[0;34m[\u001b[0m \u001b[0;34m\"$offices\"\u001b[0m\u001b[0;34m,\u001b[0m \u001b[0;36m7\u001b[0m \u001b[0;34m]\u001b[0m \u001b[0;34m}\u001b[0m\u001b[0;34m,\u001b[0m\u001b[0;34m\u001b[0m\u001b[0;34m\u001b[0m\u001b[0m\n\u001b[0;32m---> 21\u001b[0;31m         \u001b[0;34m\"longitude\"\u001b[0m\u001b[0;34m:\u001b[0m \u001b[0;34m{\u001b[0m \u001b[0;34m'$arrayElemAt'\u001b[0m\u001b[0;34m:\u001b[0m \u001b[0;34m[\u001b[0m \u001b[0;34m\"$offices\"\u001b[0m\u001b[0;34m,\u001b[0m \u001b[0;36m8\u001b[0m \u001b[0;34m]\u001b[0m \u001b[0;34m}\u001b[0m\u001b[0;34m\u001b[0m\u001b[0;34m\u001b[0m\u001b[0m\n\u001b[0m\u001b[1;32m     22\u001b[0m     }}])\n\u001b[1;32m     23\u001b[0m \u001b[0;34m\u001b[0m\u001b[0m\n",
      "\u001b[0;32m/usr/local/lib/python3.7/site-packages/pymongo/collection.py\u001b[0m in \u001b[0;36maggregate\u001b[0;34m(self, pipeline, session, **kwargs)\u001b[0m\n\u001b[1;32m   2395\u001b[0m                                    \u001b[0msession\u001b[0m\u001b[0;34m=\u001b[0m\u001b[0ms\u001b[0m\u001b[0;34m,\u001b[0m\u001b[0;34m\u001b[0m\u001b[0;34m\u001b[0m\u001b[0m\n\u001b[1;32m   2396\u001b[0m                                    \u001b[0mexplicit_session\u001b[0m\u001b[0;34m=\u001b[0m\u001b[0msession\u001b[0m \u001b[0;32mis\u001b[0m \u001b[0;32mnot\u001b[0m \u001b[0;32mNone\u001b[0m\u001b[0;34m,\u001b[0m\u001b[0;34m\u001b[0m\u001b[0;34m\u001b[0m\u001b[0m\n\u001b[0;32m-> 2397\u001b[0;31m                                    **kwargs)\n\u001b[0m\u001b[1;32m   2398\u001b[0m \u001b[0;34m\u001b[0m\u001b[0m\n\u001b[1;32m   2399\u001b[0m     \u001b[0;32mdef\u001b[0m \u001b[0maggregate_raw_batches\u001b[0m\u001b[0;34m(\u001b[0m\u001b[0mself\u001b[0m\u001b[0;34m,\u001b[0m \u001b[0mpipeline\u001b[0m\u001b[0;34m,\u001b[0m \u001b[0;34m**\u001b[0m\u001b[0mkwargs\u001b[0m\u001b[0;34m)\u001b[0m\u001b[0;34m:\u001b[0m\u001b[0;34m\u001b[0m\u001b[0;34m\u001b[0m\u001b[0m\n",
      "\u001b[0;32m/usr/local/lib/python3.7/site-packages/pymongo/collection.py\u001b[0m in \u001b[0;36m_aggregate\u001b[0;34m(self, pipeline, cursor_class, first_batch_size, session, explicit_session, **kwargs)\u001b[0m\n\u001b[1;32m   2302\u001b[0m                 \u001b[0mcollation\u001b[0m\u001b[0;34m=\u001b[0m\u001b[0mcollation\u001b[0m\u001b[0;34m,\u001b[0m\u001b[0;34m\u001b[0m\u001b[0;34m\u001b[0m\u001b[0m\n\u001b[1;32m   2303\u001b[0m                 \u001b[0msession\u001b[0m\u001b[0;34m=\u001b[0m\u001b[0msession\u001b[0m\u001b[0;34m,\u001b[0m\u001b[0;34m\u001b[0m\u001b[0;34m\u001b[0m\u001b[0m\n\u001b[0;32m-> 2304\u001b[0;31m                 client=self.__database.client)\n\u001b[0m\u001b[1;32m   2305\u001b[0m \u001b[0;34m\u001b[0m\u001b[0m\n\u001b[1;32m   2306\u001b[0m             \u001b[0;32mif\u001b[0m \u001b[0;34m\"cursor\"\u001b[0m \u001b[0;32min\u001b[0m \u001b[0mresult\u001b[0m\u001b[0;34m:\u001b[0m\u001b[0;34m\u001b[0m\u001b[0;34m\u001b[0m\u001b[0m\n",
      "\u001b[0;32m/usr/local/lib/python3.7/site-packages/pymongo/pool.py\u001b[0m in \u001b[0;36mcommand\u001b[0;34m(self, dbname, spec, slave_ok, read_preference, codec_options, check, allowable_errors, check_keys, read_concern, write_concern, parse_write_concern_error, collation, session, client, retryable_write, publish_events)\u001b[0m\n\u001b[1;32m    577\u001b[0m                            \u001b[0mcompression_ctx\u001b[0m\u001b[0;34m=\u001b[0m\u001b[0mself\u001b[0m\u001b[0;34m.\u001b[0m\u001b[0mcompression_context\u001b[0m\u001b[0;34m,\u001b[0m\u001b[0;34m\u001b[0m\u001b[0;34m\u001b[0m\u001b[0m\n\u001b[1;32m    578\u001b[0m                            \u001b[0muse_op_msg\u001b[0m\u001b[0;34m=\u001b[0m\u001b[0mself\u001b[0m\u001b[0;34m.\u001b[0m\u001b[0mop_msg_enabled\u001b[0m\u001b[0;34m,\u001b[0m\u001b[0;34m\u001b[0m\u001b[0;34m\u001b[0m\u001b[0m\n\u001b[0;32m--> 579\u001b[0;31m                            unacknowledged=unacknowledged)\n\u001b[0m\u001b[1;32m    580\u001b[0m         \u001b[0;32mexcept\u001b[0m \u001b[0mOperationFailure\u001b[0m\u001b[0;34m:\u001b[0m\u001b[0;34m\u001b[0m\u001b[0;34m\u001b[0m\u001b[0m\n\u001b[1;32m    581\u001b[0m             \u001b[0;32mraise\u001b[0m\u001b[0;34m\u001b[0m\u001b[0;34m\u001b[0m\u001b[0m\n",
      "\u001b[0;32m/usr/local/lib/python3.7/site-packages/pymongo/network.py\u001b[0m in \u001b[0;36mcommand\u001b[0;34m(sock, dbname, spec, slave_ok, is_mongos, read_preference, codec_options, session, client, check, allowable_errors, address, check_keys, listeners, max_bson_size, read_concern, parse_write_concern_error, collation, compression_ctx, use_op_msg, unacknowledged)\u001b[0m\n\u001b[1;32m    148\u001b[0m                 helpers._check_command_response(\n\u001b[1;32m    149\u001b[0m                     \u001b[0mresponse_doc\u001b[0m\u001b[0;34m,\u001b[0m \u001b[0;32mNone\u001b[0m\u001b[0;34m,\u001b[0m \u001b[0mallowable_errors\u001b[0m\u001b[0;34m,\u001b[0m\u001b[0;34m\u001b[0m\u001b[0;34m\u001b[0m\u001b[0m\n\u001b[0;32m--> 150\u001b[0;31m                     parse_write_concern_error=parse_write_concern_error)\n\u001b[0m\u001b[1;32m    151\u001b[0m     \u001b[0;32mexcept\u001b[0m \u001b[0mException\u001b[0m \u001b[0;32mas\u001b[0m \u001b[0mexc\u001b[0m\u001b[0;34m:\u001b[0m\u001b[0;34m\u001b[0m\u001b[0;34m\u001b[0m\u001b[0m\n\u001b[1;32m    152\u001b[0m         \u001b[0;32mif\u001b[0m \u001b[0mpublish\u001b[0m\u001b[0;34m:\u001b[0m\u001b[0;34m\u001b[0m\u001b[0;34m\u001b[0m\u001b[0m\n",
      "\u001b[0;32m/usr/local/lib/python3.7/site-packages/pymongo/helpers.py\u001b[0m in \u001b[0;36m_check_command_response\u001b[0;34m(response, msg, allowable_errors, parse_write_concern_error)\u001b[0m\n\u001b[1;32m    153\u001b[0m \u001b[0;34m\u001b[0m\u001b[0m\n\u001b[1;32m    154\u001b[0m             \u001b[0mmsg\u001b[0m \u001b[0;34m=\u001b[0m \u001b[0mmsg\u001b[0m \u001b[0;32mor\u001b[0m \u001b[0;34m\"%s\"\u001b[0m\u001b[0;34m\u001b[0m\u001b[0;34m\u001b[0m\u001b[0m\n\u001b[0;32m--> 155\u001b[0;31m             \u001b[0;32mraise\u001b[0m \u001b[0mOperationFailure\u001b[0m\u001b[0;34m(\u001b[0m\u001b[0mmsg\u001b[0m \u001b[0;34m%\u001b[0m \u001b[0merrmsg\u001b[0m\u001b[0;34m,\u001b[0m \u001b[0mcode\u001b[0m\u001b[0;34m,\u001b[0m \u001b[0mresponse\u001b[0m\u001b[0;34m)\u001b[0m\u001b[0;34m\u001b[0m\u001b[0;34m\u001b[0m\u001b[0m\n\u001b[0m\u001b[1;32m    156\u001b[0m \u001b[0;34m\u001b[0m\u001b[0m\n\u001b[1;32m    157\u001b[0m \u001b[0;34m\u001b[0m\u001b[0m\n",
      "\u001b[0;31mOperationFailure\u001b[0m: $arrayElemAt's first argument must be an array, but is object"
     ]
    }
   ],
   "source": [
    "cursor=db.companies.aggregate([\n",
    "    {'$match': \n",
    "     {'$and': [ \n",
    "        {'category_code': {'$in': [\"web\",\"software\",\"games_video\"]}},\n",
    "        {'founded_year':{'$gte':2008}},\n",
    "        {'deadpooled_year': None },\n",
    "        {\"offices.latitude\":{'$ne': None}},\n",
    "        {\"number_of_employees\":{'$ne': None}},\n",
    "    ]}},\n",
    "    { '$unwind': \"$offices\" },\n",
    "    { '$project' : {\n",
    "        \"name\" : 1,\n",
    "        \"category_code\": 1,\n",
    "        \"founded_year\": 1,\n",
    "        \"description\":1,\n",
    "        \"money_raised\":1,\n",
    "        \"number_of_employees\":1,\n",
    "        #\"city\": { '$arrayElemAt': [ \"$offices\", 4 ] },\n",
    "        #\"countycode\": { '$arrayElemAt': [ \"$offices\", 6 ] },\n",
    "        \"latitude\": { '$arrayElemAt': [ \"$offices\", 7 ] },\n",
    "        \"longitude\": { '$arrayElemAt': [ \"$offices\", 8 ] }\n",
    "    }}])\n",
    "\n",
    "Comp=list(cursor)"
   ]
  },
  {
   "cell_type": "code",
   "execution_count": 15,
   "metadata": {},
   "outputs": [
    {
     "data": {
      "text/html": [
       "<div>\n",
       "<style scoped>\n",
       "    .dataframe tbody tr th:only-of-type {\n",
       "        vertical-align: middle;\n",
       "    }\n",
       "\n",
       "    .dataframe tbody tr th {\n",
       "        vertical-align: top;\n",
       "    }\n",
       "\n",
       "    .dataframe thead th {\n",
       "        text-align: right;\n",
       "    }\n",
       "</style>\n",
       "<table border=\"1\" class=\"dataframe\">\n",
       "  <thead>\n",
       "    <tr style=\"text-align: right;\">\n",
       "      <th></th>\n",
       "      <th>_id</th>\n",
       "      <th>category_code</th>\n",
       "      <th>description</th>\n",
       "      <th>founded_year</th>\n",
       "      <th>name</th>\n",
       "      <th>number_of_employees</th>\n",
       "      <th>offices</th>\n",
       "    </tr>\n",
       "  </thead>\n",
       "  <tbody>\n",
       "    <tr>\n",
       "      <th>0</th>\n",
       "      <td>52cdef7c4bab8bd675297e30</td>\n",
       "      <td>software</td>\n",
       "      <td>Private Academic Networks</td>\n",
       "      <td>2008</td>\n",
       "      <td>GoingOn</td>\n",
       "      <td>40</td>\n",
       "      <td>{'latitude': 37.782263, 'longitude': -122.392142}</td>\n",
       "    </tr>\n",
       "    <tr>\n",
       "      <th>1</th>\n",
       "      <td>52cdef7c4bab8bd675297f3f</td>\n",
       "      <td>games_video</td>\n",
       "      <td></td>\n",
       "      <td>2008</td>\n",
       "      <td>YouBeQB</td>\n",
       "      <td>8</td>\n",
       "      <td>{'latitude': 47.597965, 'longitude': -122.151158}</td>\n",
       "    </tr>\n",
       "    <tr>\n",
       "      <th>2</th>\n",
       "      <td>52cdef7c4bab8bd675297f76</td>\n",
       "      <td>games_video</td>\n",
       "      <td>Digital Entertainment and Media Platform</td>\n",
       "      <td>2008</td>\n",
       "      <td>Crunchyroll</td>\n",
       "      <td>50</td>\n",
       "      <td>{'latitude': 37.781265, 'longitude': -122.393229}</td>\n",
       "    </tr>\n",
       "    <tr>\n",
       "      <th>3</th>\n",
       "      <td>52cdef7c4bab8bd675297fec</td>\n",
       "      <td>web</td>\n",
       "      <td>Tech Support Community</td>\n",
       "      <td>2013</td>\n",
       "      <td>Fixya</td>\n",
       "      <td>30</td>\n",
       "      <td>{'latitude': 37.566879, 'longitude': -122.323895}</td>\n",
       "    </tr>\n",
       "    <tr>\n",
       "      <th>4</th>\n",
       "      <td>52cdef7c4bab8bd675298038</td>\n",
       "      <td>games_video</td>\n",
       "      <td></td>\n",
       "      <td>2009</td>\n",
       "      <td>alluc</td>\n",
       "      <td>7</td>\n",
       "      <td>{'latitude': 53.707739, 'longitude': 10.023246}</td>\n",
       "    </tr>\n",
       "  </tbody>\n",
       "</table>\n",
       "</div>"
      ],
      "text/plain": [
       "                        _id category_code  \\\n",
       "0  52cdef7c4bab8bd675297e30      software   \n",
       "1  52cdef7c4bab8bd675297f3f   games_video   \n",
       "2  52cdef7c4bab8bd675297f76   games_video   \n",
       "3  52cdef7c4bab8bd675297fec           web   \n",
       "4  52cdef7c4bab8bd675298038   games_video   \n",
       "\n",
       "                                description  founded_year         name  \\\n",
       "0                 Private Academic Networks          2008      GoingOn   \n",
       "1                                                    2008      YouBeQB   \n",
       "2  Digital Entertainment and Media Platform          2008  Crunchyroll   \n",
       "3                    Tech Support Community          2013        Fixya   \n",
       "4                                                    2009        alluc   \n",
       "\n",
       "   number_of_employees                                            offices  \n",
       "0                   40  {'latitude': 37.782263, 'longitude': -122.392142}  \n",
       "1                    8  {'latitude': 47.597965, 'longitude': -122.151158}  \n",
       "2                   50  {'latitude': 37.781265, 'longitude': -122.393229}  \n",
       "3                   30  {'latitude': 37.566879, 'longitude': -122.323895}  \n",
       "4                    7    {'latitude': 53.707739, 'longitude': 10.023246}  "
      ]
     },
     "execution_count": 15,
     "metadata": {},
     "output_type": "execute_result"
    }
   ],
   "source": [
    "import pandas as pd\n",
    "\n",
    "df = pd.DataFrame(Comp)\n",
    "df.head()"
   ]
  },
  {
   "cell_type": "code",
   "execution_count": null,
   "metadata": {},
   "outputs": [],
   "source": []
  },
  {
   "cell_type": "code",
   "execution_count": 55,
   "metadata": {},
   "outputs": [],
   "source": [
    "def toGeoJSON(array):\n",
    "    return [array[\"latitude\"],array[\"longitude\"]]\n",
    "    \n",
    "\n",
    "def convertCompany(company):\n",
    "    return {\n",
    "        \"name\": company[\"name\"],\n",
    "        \"category_code\": company[\"category_code\"],\n",
    "        \"founded_year\":company[\"founded_year\"],\n",
    "        \"description\":company[\"description\"],\n",
    "        \"money_raised\":company[\"total_money_raised\"],\n",
    "        \"number_of_employees\"\n",
    "        \"position\": toGeoJSON(company[\"offices\"])}"
   ]
  },
  {
   "cell_type": "code",
   "execution_count": null,
   "metadata": {},
   "outputs": [],
   "source": []
  },
  {
   "cell_type": "code",
   "execution_count": 66,
   "metadata": {},
   "outputs": [
    {
     "data": {
      "text/plain": [
       "[]"
      ]
     },
     "execution_count": 66,
     "metadata": {},
     "output_type": "execute_result"
    }
   ],
   "source": [
    "geoCompanies = list(map(lambda r: convertCompany(r),cursor))\n",
    "geoCompanies"
   ]
  }
 ],
 "metadata": {
  "kernelspec": {
   "display_name": "Python 3",
   "language": "python",
   "name": "python3"
  },
  "language_info": {
   "codemirror_mode": {
    "name": "ipython",
    "version": 3
   },
   "file_extension": ".py",
   "mimetype": "text/x-python",
   "name": "python",
   "nbconvert_exporter": "python",
   "pygments_lexer": "ipython3",
   "version": "3.7.2"
  }
 },
 "nbformat": 4,
 "nbformat_minor": 2
}
