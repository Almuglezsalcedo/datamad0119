{
 "cells": [
  {
   "cell_type": "code",
   "execution_count": 4,
   "metadata": {},
   "outputs": [],
   "source": [
    "import pandas as pd\n",
    "import numpy as np"
   ]
  },
  {
   "cell_type": "code",
   "execution_count": 5,
   "metadata": {},
   "outputs": [],
   "source": [
    "def acquire():\n",
    "    acq=pd.read_csv('/Users/almu/ironhack/datamad0119/module-1/pipelines-project/your-code/data-folder/googleplaystore.csv')\n",
    "    return acq"
   ]
  },
  {
   "cell_type": "code",
   "execution_count": 6,
   "metadata": {},
   "outputs": [
    {
     "name": "stderr",
     "output_type": "stream",
     "text": [
      "/usr/local/Cellar/ipython/7.2.0/libexec/vendor/lib/python3.7/site-packages/ipykernel_launcher.py:3: SettingWithCopyWarning: \n",
      "A value is trying to be set on a copy of a slice from a DataFrame\n",
      "\n",
      "See the caveats in the documentation: http://pandas.pydata.org/pandas-docs/stable/indexing.html#indexing-view-versus-copy\n",
      "  This is separate from the ipykernel package so we can avoid doing imports until\n"
     ]
    }
   ],
   "source": [
    "def wrangle(acq):\n",
    "    data = acq.drop_duplicates()\n",
    "    data.drop_duplicates('App', keep=\"last\", inplace=True)\n",
    "    data=data.rename(columns={'Price':'Price_dollars','Content Rating':'Content_Rating', 'Last Updated':'Last_Updated','Current Ver':'Current_Ver','Android Ver':'Android_Ver'})\n",
    "    data=data.drop('Genres', axis=1)\n",
    "    new = data['Last_Updated'].str.split(\",\", n = 1, expand = True)\n",
    "    data['Updating_Year']=new[1]\n",
    "    data=data.drop('Last_Updated', axis=1)\n",
    "    data['Installs']=data['Installs'].str.replace(\"+\",\"\")\n",
    "    data['Android_Ver']=data['Android_Ver'].str.replace(\" and up\",\"\")\n",
    "    data['Price_dollars']=data['Price_dollars'].str.replace(\"$\",\"\")\n",
    "    data=data.drop(data[data['Reviews']=='3.0M'].index)\n",
    "    data.loc[:,'Installs'] = data.loc[:,'Installs'].str.replace(',', '', regex=False).astype(int)\n",
    "    data['Reviews']=data['Reviews'].astype(int)\n",
    "    return data\n",
    "\n",
    "if __name__ == '__main__':\n",
    "    acq = acquire()\n",
    "    data = wrangle(acq)\n",
    "    \n",
    "\n"
   ]
  },
  {
   "cell_type": "code",
   "execution_count": null,
   "metadata": {},
   "outputs": [],
   "source": []
  }
 ],
 "metadata": {
  "kernelspec": {
   "display_name": "Python 3",
   "language": "python",
   "name": "python3"
  },
  "language_info": {
   "codemirror_mode": {
    "name": "ipython",
    "version": 3
   },
   "file_extension": ".py",
   "mimetype": "text/x-python",
   "name": "python",
   "nbconvert_exporter": "python",
   "pygments_lexer": "ipython3",
   "version": "3.7.2"
  }
 },
 "nbformat": 4,
 "nbformat_minor": 2
}
