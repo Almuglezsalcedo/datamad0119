{
 "cells": [
  {
   "cell_type": "code",
   "execution_count": 5,
   "metadata": {},
   "outputs": [],
   "source": [
    "import pandas as pd\n",
    "import numpy as np\n",
    "import matplotlib.pyplot as plt\n",
    "import seaborn as sns\n",
    "from seaborn import kdeplot\n",
    "import subprocess"
   ]
  },
  {
   "cell_type": "code",
   "execution_count": 6,
   "metadata": {},
   "outputs": [],
   "source": [
    "def acquire():\n",
    "    acq=pd.read_csv('/Users/almu/ironhack/datamad0119/module-1/pipelines-project/your-code/data-folder/googleplaystore.csv')\n",
    "    return acq"
   ]
  },
  {
   "cell_type": "code",
   "execution_count": 7,
   "metadata": {},
   "outputs": [
    {
     "name": "stderr",
     "output_type": "stream",
     "text": [
      "/usr/local/Cellar/ipython/7.2.0/libexec/vendor/lib/python3.7/site-packages/ipykernel_launcher.py:4: SettingWithCopyWarning: \n",
      "A value is trying to be set on a copy of a slice from a DataFrame\n",
      "\n",
      "See the caveats in the documentation: http://pandas.pydata.org/pandas-docs/stable/indexing.html#indexing-view-versus-copy\n",
      "  after removing the cwd from sys.path.\n"
     ]
    },
    {
     "name": "stdout",
     "output_type": "stream",
     "text": [
      "email enviado\n"
     ]
    },
    {
     "data": {
      "image/png": "[encoded data removed]",
      "text/plain": [
       "<Figure size 432x288 with 1 Axes>"
      ]
     },
     "metadata": {
      "needs_background": "light"
     },
     "output_type": "display_data"
    }
   ],
   "source": [
    "def wrangle(acq):\n",
    "    \n",
    "    data = acq.drop_duplicates()\n",
    "    data.drop_duplicates('App', keep=\"last\", inplace=True)\n",
    "    data=data.rename(columns={'Price':'Price_dollars','Content Rating':'Content_Rating', 'Last Updated':'Last_Updated','Current Ver':'Current_Ver','Android Ver':'Android_Ver'})\n",
    "    data=data.drop('Genres', axis=1)\n",
    "    new = data['Last_Updated'].str.split(\",\", n = 1, expand = True)\n",
    "    data['Updating_Year']=new[1]\n",
    "    data=data.drop('Last_Updated', axis=1)\n",
    "    data['Installs']=data['Installs'].str.replace(\"+\",\"\")\n",
    "    data['Android_Ver']=data['Android_Ver'].str.replace(\" and up\",\"\")\n",
    "    data['Price_dollars']=data['Price_dollars'].str.replace(\"$\",\"\")\n",
    "    data=data.drop(data[data['Reviews']=='3.0M'].index)\n",
    "    data.loc[:,'Installs'] = data.loc[:,'Installs'].str.replace(',', '', regex=False).astype(int)\n",
    "    data['Reviews']=data['Reviews'].astype(int)\n",
    "    data['Updating_Year']=data['Updating_Year'].astype(int)\n",
    "    data['Price_dollars']=data['Price_dollars'].astype(float)\n",
    "    return data\n",
    "\n",
    "\n",
    "def analyze1 (data):\n",
    "    H1=pd.pivot_table(data,values=['Reviews','Installs'], index='Type',aggfunc={'Reviews':'mean', 'Installs':'mean'})\n",
    "    H2=pd.pivot_table(data,values=['Installs'], index='Category',aggfunc='sum')\n",
    "    H2=H2.sort_values(by='Installs', ascending=False)\n",
    "    H2=H2.head(2)\n",
    "    correlation=data['Installs'].corr(data['Updating_Year'])\n",
    "    correlation\n",
    "    H4=data[(data['Reviews']>50000000)&(data['Type']=='Free')].sort_values(by='Rating', ascending=False).head(3)\n",
    "    H4\n",
    "    bins = [0, 1, 2,3,4,5]\n",
    "    data['binned'] = pd.cut(data['Rating'],bins)\n",
    "    H5=pd.pivot_table(data,values='App', index='binned',columns='Type',aggfunc='count').sort_values(by=('Free'), ascending=False).sort_values(by=('Paid'), ascending=False).head(5)\n",
    "    H5\n",
    "    correlation=data['Price_dollars'].corr(data['Rating'])\n",
    "    correlation\n",
    "    data['Price_dollars'].describe()\n",
    "    return (H1,H2,correlation,H4,H5)\n",
    "\n",
    "def visualize1 (data):\n",
    "    return kdeplot(data.Price_dollars)\n",
    "\n",
    "def visualize2 (data):\n",
    "    data2=data[(data['Type']=='Paid')]\n",
    "    data3=data[(data['Type']=='Free')]\n",
    "    return (data2['Rating'].plot.hist(),data3['Rating'].plot.hist())\n",
    "    \n",
    "def report_to():\n",
    "    msg = \" The report has been generated. \"\n",
    "    command = 'echo {} | mail -s \"email subject\" \"gonzalezsalcedoa@gmail.com\"'.format(msg)\n",
    "    subprocess.Popen(command, shell=True)\n",
    "    return('email enviado') \n",
    "    \n",
    "if __name__ == '__main__':\n",
    "    acq = acquire()\n",
    "    data = wrangle(acq)\n",
    "    results=analyze1 (data)\n",
    "    graph1=visualize1 (data)\n",
    "    graph2_3=visualize2 (data)\n",
    "\n",
    "reporting=report_to()\n",
    "print(reporting)\n",
    "\n",
    "\n",
    "\n"
   ]
  },
  {
   "cell_type": "code",
   "execution_count": null,
   "metadata": {},
   "outputs": [],
   "source": []
  },
  {
   "cell_type": "code",
   "execution_count": null,
   "metadata": {},
   "outputs": [],
   "source": []
  }
 ],
 "metadata": {
  "kernelspec": {
   "display_name": "Python 3",
   "language": "python",
   "name": "python3"
  },
  "language_info": {
   "codemirror_mode": {
    "name": "ipython",
    "version": 3
   },
   "file_extension": ".py",
   "mimetype": "text/x-python",
   "name": "python",
   "nbconvert_exporter": "python",
   "pygments_lexer": "ipython3",
   "version": "3.7.2"
  }
 },
 "nbformat": 4,
 "nbformat_minor": 2
}
