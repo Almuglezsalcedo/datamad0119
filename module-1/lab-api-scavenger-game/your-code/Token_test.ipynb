{
 "cells": [
  {
   "cell_type": "code",
   "execution_count": 2,
   "metadata": {},
   "outputs": [],
   "source": [
    "# https://github.com/theskumar/python-dotenv\n",
    "\n",
    "# crear un archivo .env que contenga las claves con el formato: KEY=123456\n",
    "# crear un archivo .gitignore en la carpeta donde incluyamos: .env\n",
    "\n",
    "# Ya tenemos un archivo .env que tiene las claves que NO queremos que se publiquen\n",
    "# Con .gitignore definimos los archivos que git ignorará por lo que no se\n",
    "# sincronizará ni añadirá nunca ningún cambio. \n",
    "\n",
    "# imports\n",
    "from dotenv import load_dotenv\n",
    "import os\n",
    "\n",
    "# KEY\n",
    "load_dotenv(dotenv_path='.env')\n",
    "SECRET_KEY = os.getenv(\"TOKEN\")\n",
    "\n",
    "# print\n",
    "\n",
    "\n"
   ]
  },
  {
   "cell_type": "code",
   "execution_count": null,
   "metadata": {},
   "outputs": [],
   "source": []
  }
 ],
 "metadata": {
  "kernelspec": {
   "display_name": "Python 3",
   "language": "python",
   "name": "python3"
  },
  "language_info": {
   "codemirror_mode": {
    "name": "ipython",
    "version": 3
   },
   "file_extension": ".py",
   "mimetype": "text/x-python",
   "name": "python",
   "nbconvert_exporter": "python",
   "pygments_lexer": "ipython3",
   "version": "3.7.2"
  }
 },
 "nbformat": 4,
 "nbformat_minor": 2
}
