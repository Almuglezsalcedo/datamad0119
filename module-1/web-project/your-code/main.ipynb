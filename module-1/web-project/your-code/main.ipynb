{
 "cells": [
  {
   "cell_type": "code",
   "execution_count": 1,
   "metadata": {},
   "outputs": [],
   "source": [
    "import requests\n",
    "import json\n",
    "import pandas as pd\n",
    "from bs4 import BeautifulSoup\n",
    "import re\n"
   ]
  },
  {
   "cell_type": "code",
   "execution_count": 2,
   "metadata": {},
   "outputs": [],
   "source": [
    "url_rap = 'https://www.allmusic.com/genre/rap-ma0000002816/artists'\n",
    "url_electronic = 'https://www.allmusic.com/genre/electronic-ma0000002572/artists'\n",
    "url_blues = 'https://www.allmusic.com/genre/blues-ma0000002467/artists'\n",
    "url_classical = 'https://www.allmusic.com/genre/classical-ma0000002521/artists'\n",
    "url_country = 'https://www.allmusic.com/genre/country-ma0000002532/artists'\n",
    "url_electronic = 'https://www.allmusic.com/genre/electronic-ma0000002572/artists'\n",
    "url_international = 'https://www.allmusic.com/genre/international-ma0000002660/artists'\n",
    "url_jazz = 'https://www.allmusic.com/genre/jazz-ma0000002674/artists'\n",
    "url_latin = 'https://www.allmusic.com/genre/latin-ma0000002692/artists'\n",
    "url_newage = 'https://www.allmusic.com/genre/new-age-ma0000002745/artists'\n",
    "url_poprock = 'https://www.allmusic.com/genre/pop-rock-ma0000002613/artists'\n",
    "url_rb = 'https://www.allmusic.com/genre/pop-rock-ma0000002613/artists'\n",
    "url_reggae = 'https://www.allmusic.com/genre/reggae-ma0000002820/artists'\n",
    "url_stage = 'https://www.allmusic.com/genre/stage-screen-ma0000004432/artists'\n",
    "url_children = 'https://www.allmusic.com/genre/childrens-ma0000002944/artists'\n",
    "url_comedy = 'https://www.allmusic.com/genre/comedy-spoken-ma0000004433/artists'\n",
    "url_easy = 'https://www.allmusic.com/genre/easy-listening-ma0000002567/artists'\n",
    "url_holiday = 'https://www.allmusic.com/genre/holiday-ma0000012075/artists'\n",
    "url_vocal = 'https://www.allmusic.com/genre/vocal-ma0000011877/artists'\n",
    "url_religious = 'https://www.allmusic.com/genre/religious-ma0000004431/artists'\n",
    "\n",
    "urls= [url_religious,url_vocal,url_holiday,url_easy,url_comedy,url_children,url_stage,url_reggae,url_rb,url_poprock,url_newage,url_latin,url_jazz,url_rap,url_electronic,url_blues,url_classical,url_country,url_electronic, url_international,]\n",
    "\n",
    "\n",
    "\n",
    "\n",
    "    \n",
    "    \n",
    "\n"
   ]
  },
  {
   "cell_type": "code",
   "execution_count": 3,
   "metadata": {},
   "outputs": [
    {
     "data": {
      "text/plain": [
       "1065"
      ]
     },
     "execution_count": 3,
     "metadata": {},
     "output_type": "execute_result"
    }
   ],
   "source": [
    "\n",
    "headers = {'User-Agent' : 'Mozilla/5.0 (Windows Nt 6.1; WOW64; rv:50.0) Gecko/20100101 Firefox/50.0'}\n",
    "def get_genre(url):\n",
    "    html = requests.get(url, headers = headers).content\n",
    "    soup = BeautifulSoup(html,\"html.parser\")\n",
    "    return soup\n",
    "def clean_artist_for_api(artist): \n",
    "    return artist.strip().replace(' ', '+').lower()\n",
    "\n",
    "def list_of_artists(soup):\n",
    "    artists=[]\n",
    "    table = soup.find_all('div',{'class':'artist'}) \n",
    "    for item in table:\n",
    "        artists.append(clean_artist_for_api(item.text))\n",
    "    return artists\n",
    "def total(url):\n",
    "    return list_of_artists(get_genre(url))\n",
    "thousand_artists=[]\n",
    "for url in urls:\n",
    "    for i in total(url):\n",
    "        thousand_artists.append(i )\n",
    "len(thousand_artists)\n",
    "\n",
    "\n",
    "\n",
    "\n",
    "        \n",
    "    \n",
    "    \n"
   ]
  },
  {
   "cell_type": "code",
   "execution_count": 4,
   "metadata": {},
   "outputs": [
    {
     "data": {
      "text/html": [
       "<div>\n",
       "<style scoped>\n",
       "    .dataframe tbody tr th:only-of-type {\n",
       "        vertical-align: middle;\n",
       "    }\n",
       "\n",
       "    .dataframe tbody tr th {\n",
       "        vertical-align: top;\n",
       "    }\n",
       "\n",
       "    .dataframe thead th {\n",
       "        text-align: right;\n",
       "    }\n",
       "</style>\n",
       "<table border=\"1\" class=\"dataframe\">\n",
       "  <thead>\n",
       "    <tr style=\"text-align: right;\">\n",
       "      <th></th>\n",
       "      <th>0</th>\n",
       "    </tr>\n",
       "  </thead>\n",
       "  <tbody>\n",
       "    <tr>\n",
       "      <th>0</th>\n",
       "      <td>josh+turner</td>\n",
       "    </tr>\n",
       "    <tr>\n",
       "      <th>1</th>\n",
       "      <td>amy+grant</td>\n",
       "    </tr>\n",
       "    <tr>\n",
       "      <th>2</th>\n",
       "      <td>kirk+franklin</td>\n",
       "    </tr>\n",
       "    <tr>\n",
       "      <th>3</th>\n",
       "      <td>mahalia+jackson</td>\n",
       "    </tr>\n",
       "    <tr>\n",
       "      <th>4</th>\n",
       "      <td>mormon+tabernacle+choir</td>\n",
       "    </tr>\n",
       "  </tbody>\n",
       "</table>\n",
       "</div>"
      ],
      "text/plain": [
       "                         0\n",
       "0              josh+turner\n",
       "1                amy+grant\n",
       "2            kirk+franklin\n",
       "3          mahalia+jackson\n",
       "4  mormon+tabernacle+choir"
      ]
     },
     "execution_count": 4,
     "metadata": {},
     "output_type": "execute_result"
    }
   ],
   "source": [
    "df=pd.DataFrame(thousand_artists)\n",
    "df.head()"
   ]
  },
  {
   "cell_type": "code",
   "execution_count": 8,
   "metadata": {},
   "outputs": [
    {
     "data": {
      "text/plain": [
       "['david+cross',\n",
       " 'spinal+tap',\n",
       " 'george+carlin',\n",
       " 'weird+al+yankovic',\n",
       " 'monty+python',\n",
       " 'george+burns',\n",
       " 'william+s.+burroughs',\n",
       " 'dr.+demento',\n",
       " 'bill+hicks',\n",
       " 'allen+ginsberg',\n",
       " 'bill+cosby',\n",
       " 'flight+of+the+conchords',\n",
       " 'steve+martin',\n",
       " 'henry+rollins',\n",
       " 'chris+rock',\n",
       " 'eddie+murphy',\n",
       " 'spike+jones',\n",
       " 'jerry+seinfeld',\n",
       " 'timothy+leary',\n",
       " 'cheech+&+chong',\n",
       " 'bob+newhart',\n",
       " 'robin+williams',\n",
       " 'sam+kinison',\n",
       " 'woody+allen',\n",
       " 'joan+rivers',\n",
       " 'mel+brooks',\n",
       " 'ellen+degeneres',\n",
       " 'robert+klein',\n",
       " 'the+marx+brothers',\n",
       " 'rich+little',\n",
       " 'garrison+keillor',\n",
       " 'kathy+griffin',\n",
       " 'firesign+theatre',\n",
       " 'lenny+bruce',\n",
       " 'the+simpsons',\n",
       " 'bob+hope',\n",
       " 'jack+benny',\n",
       " 'stan+freberg',\n",
       " 'steve+allen',\n",
       " 'homer+&+jethro',\n",
       " 'steven+wright',\n",
       " 'the+jerky+boys',\n",
       " 'denis+leary',\n",
       " 'jackie+mason',\n",
       " 'soupy+sales',\n",
       " 'raffi',\n",
       " 'pete+seeger',\n",
       " 'they+might+be+giants',\n",
       " 'the+wiggles',\n",
       " 'laurie+berkner']"
      ]
     },
     "execution_count": 8,
     "metadata": {},
     "output_type": "execute_result"
    }
   ],
   "source": [
    "thousand_artists[200:250]"
   ]
  },
  {
   "cell_type": "code",
   "execution_count": 18,
   "metadata": {},
   "outputs": [
    {
     "data": {
      "text/plain": [
       "{'resultCount': 1,\n",
       " 'results': [{'wrapperType': 'track',\n",
       "   'kind': 'song',\n",
       "   'artistId': 392092,\n",
       "   'collectionId': 82517660,\n",
       "   'trackId': 82517620,\n",
       "   'artistName': 'Pete Seeger',\n",
       "   'collectionName': 'American Favorite Ballads, Vol. 1',\n",
       "   'trackName': 'This Land Is Your Land',\n",
       "   'collectionCensoredName': 'American Favorite Ballads, Vol. 1',\n",
       "   'trackCensoredName': 'This Land Is Your Land',\n",
       "   'artistViewUrl': 'https://itunes.apple.com/us/artist/pete-seeger/392092?uo=4',\n",
       "   'collectionViewUrl': 'https://itunes.apple.com/us/album/this-land-is-your-land/82517660?i=82517620&uo=4',\n",
       "   'trackViewUrl': 'https://itunes.apple.com/us/album/this-land-is-your-land/82517660?i=82517620&uo=4',\n",
       "   'previewUrl': 'https://audio-ssl.itunes.apple.com/apple-assets-us-std-000001/Music2/v4/47/20/11/472011cc-1484-354f-5404-ab3c169b565d/mzaf_3211216751042059088.plus.aac.p.m4a',\n",
       "   'artworkUrl30': 'https://is2-ssl.mzstatic.com/image/thumb/Music/v4/2f/80/50/2f8050b5-d9ac-9dc6-6042-b85bbe235420/source/30x30bb.jpg',\n",
       "   'artworkUrl60': 'https://is2-ssl.mzstatic.com/image/thumb/Music/v4/2f/80/50/2f8050b5-d9ac-9dc6-6042-b85bbe235420/source/60x60bb.jpg',\n",
       "   'artworkUrl100': 'https://is2-ssl.mzstatic.com/image/thumb/Music/v4/2f/80/50/2f8050b5-d9ac-9dc6-6042-b85bbe235420/source/100x100bb.jpg',\n",
       "   'collectionPrice': 9.99,\n",
       "   'trackPrice': 0.99,\n",
       "   'releaseDate': '1965-01-01T08:00:00Z',\n",
       "   'collectionExplicitness': 'notExplicit',\n",
       "   'trackExplicitness': 'notExplicit',\n",
       "   'discCount': 1,\n",
       "   'discNumber': 1,\n",
       "   'trackCount': 28,\n",
       "   'trackNumber': 28,\n",
       "   'trackTimeMillis': 170973,\n",
       "   'country': 'USA',\n",
       "   'currency': 'USD',\n",
       "   'primaryGenreName': 'Singer/Songwriter',\n",
       "   'isStreamable': True}]}"
      ]
     },
     "execution_count": 18,
     "metadata": {},
     "output_type": "execute_result"
    }
   ],
   "source": [
    "def getrequests(artist):\n",
    "    response = requests.get('https://itunes.apple.com/search?term={}&limit=1'.format(artist))\n",
    "    return response.json()\n",
    "getrequests('pete+seeger')"
   ]
  },
  {
   "cell_type": "code",
   "execution_count": 22,
   "metadata": {},
   "outputs": [
    {
     "data": {
      "text/plain": [
       "0"
      ]
     },
     "execution_count": 22,
     "metadata": {},
     "output_type": "execute_result"
    }
   ],
   "source": [
    "def getrequests(artist):\n",
    "    response = requests.get('https://itunes.apple.com/search?term={}&limit=1'.format(artist))\n",
    "    return response.json()\n",
    "lst1=[]\n",
    "for name in thousand_artists[:50]:\n",
    "    try:\n",
    "        lst.append(getrequests(name))\n",
    "    except Exception as e:\n",
    "        continue\n",
    "len(lst1)\n",
    "\n",
    "\n",
    "\n",
    "\n"
   ]
  },
  {
   "cell_type": "code",
   "execution_count": 23,
   "metadata": {},
   "outputs": [
    {
     "data": {
      "text/plain": [
       "12"
      ]
     },
     "execution_count": 23,
     "metadata": {},
     "output_type": "execute_result"
    }
   ],
   "source": [
    "lst2=[]\n",
    "for name in thousand_artists[50:100]:\n",
    "    try:\n",
    "        lst2.append(getrequests(name))\n",
    "    except Exception as e:\n",
    "        continue\n",
    "len(lst2)"
   ]
  },
  {
   "cell_type": "code",
   "execution_count": null,
   "metadata": {},
   "outputs": [],
   "source": [
    "lst3=[]\n",
    "for name in thousand_artists[100:150]:\n",
    "    try:\n",
    "        lst3.append(getrequests(name))\n",
    "    except Exception as e:\n",
    "        continue\n",
    "len(lst3)"
   ]
  },
  {
   "cell_type": "code",
   "execution_count": null,
   "metadata": {},
   "outputs": [],
   "source": [
    "lst4=[]\n",
    "for name in thousand_artists[150:200]:\n",
    "    try:\n",
    "        lst4.append(getrequests(name))\n",
    "    except Exception as e:\n",
    "        continue\n",
    "len(lst4)"
   ]
  },
  {
   "cell_type": "code",
   "execution_count": null,
   "metadata": {},
   "outputs": [],
   "source": [
    "lst5=[]\n",
    "for name in thousand_artists[200:250]:\n",
    "    try:\n",
    "        lst5.append(getrequests(name))\n",
    "    except Exception as e:\n",
    "        continue\n",
    "len(lst5)"
   ]
  },
  {
   "cell_type": "code",
   "execution_count": null,
   "metadata": {},
   "outputs": [],
   "source": [
    "lst6=[]\n",
    "for name in thousand_artists[250:300]:\n",
    "    try:\n",
    "        lst6.append(getrequests(name))\n",
    "    except Exception as e:\n",
    "        continue\n",
    "len(lst6)"
   ]
  },
  {
   "cell_type": "code",
   "execution_count": null,
   "metadata": {},
   "outputs": [],
   "source": [
    "lst7=[]\n",
    "for name in thousand_artists[300:350]:\n",
    "    try:\n",
    "        lst7.append(getrequests(name))\n",
    "    except Exception as e:\n",
    "        continue\n",
    "len(lst7)"
   ]
  },
  {
   "cell_type": "code",
   "execution_count": null,
   "metadata": {},
   "outputs": [],
   "source": [
    "lst8=[]\n",
    "for name in thousand_artists[350:400]:\n",
    "    try:\n",
    "        lst8.append(getrequests(name))\n",
    "    except Exception as e:\n",
    "        continue\n",
    "len(lst8)"
   ]
  },
  {
   "cell_type": "code",
   "execution_count": null,
   "metadata": {},
   "outputs": [],
   "source": [
    "lst9=[]\n",
    "for name in thousand_artists[400:450]:\n",
    "    try:\n",
    "        lst9.append(getrequests(name))\n",
    "    except Exception as e:\n",
    "        continue"
   ]
  },
  {
   "cell_type": "code",
   "execution_count": 19,
   "metadata": {},
   "outputs": [
    {
     "data": {
      "text/plain": [
       "42"
      ]
     },
     "execution_count": 19,
     "metadata": {},
     "output_type": "execute_result"
    }
   ],
   "source": [
    "lst10=[]\n",
    "for name in thousand_artists[450:500]:\n",
    "    try:\n",
    "        lst10.append(getrequests(name))\n",
    "    except Exception as e:\n",
    "        continue\n",
    "len(lst2)"
   ]
  },
  {
   "cell_type": "code",
   "execution_count": 7,
   "metadata": {},
   "outputs": [
    {
     "data": {
      "text/plain": [
       "0"
      ]
     },
     "execution_count": 7,
     "metadata": {},
     "output_type": "execute_result"
    }
   ],
   "source": [
    "lst11=[]\n",
    "for name in thousand_artists[500:550]:\n",
    "    try:\n",
    "        lst11.append(getrequests(name))\n",
    "    except Exception as e:\n",
    "        continue\n",
    "len(lst11)"
   ]
  },
  {
   "cell_type": "code",
   "execution_count": null,
   "metadata": {},
   "outputs": [],
   "source": [
    "lst12=[]\n",
    "for name in thousand_artists[550:600]:\n",
    "    try:\n",
    "        lst12.append(getrequests(name))\n",
    "    except Exception as e:\n",
    "        continue\n",
    "len(lst12)"
   ]
  },
  {
   "cell_type": "code",
   "execution_count": null,
   "metadata": {},
   "outputs": [],
   "source": [
    "lst13=[]\n",
    "for name in thousand_artists[600:650]:\n",
    "    try:\n",
    "        lst13.append(getrequests(name))\n",
    "    except Exception as e:\n",
    "        continue\n",
    "len(lst13)"
   ]
  },
  {
   "cell_type": "code",
   "execution_count": null,
   "metadata": {},
   "outputs": [],
   "source": [
    "lst14=[]\n",
    "for name in thousand_artists[650:700]:\n",
    "    try:\n",
    "        lst14.append(getrequests(name))\n",
    "    except Exception as e:\n",
    "        continue\n",
    "len(lst14)"
   ]
  },
  {
   "cell_type": "code",
   "execution_count": null,
   "metadata": {},
   "outputs": [],
   "source": [
    "lst15=[]\n",
    "for name in thousand_artists[700:750]:\n",
    "    try:\n",
    "        lst15.append(getrequests(name))\n",
    "    except Exception as e:\n",
    "        continue\n",
    "len(lst15)"
   ]
  },
  {
   "cell_type": "code",
   "execution_count": null,
   "metadata": {},
   "outputs": [],
   "source": [
    "lst16=[]\n",
    "for name in thousand_artists[750:800]:\n",
    "    try:\n",
    "        lst16.append(getrequests(name))\n",
    "    except Exception as e:\n",
    "        continue\n",
    "len(lst16)"
   ]
  },
  {
   "cell_type": "code",
   "execution_count": null,
   "metadata": {},
   "outputs": [],
   "source": [
    "lst17=[]\n",
    "for name in thousand_artists[800:850]:\n",
    "    try:\n",
    "        lst17.append(getrequests(name))\n",
    "    except Exception as e:\n",
    "        continue\n",
    "len(lst17)"
   ]
  },
  {
   "cell_type": "code",
   "execution_count": null,
   "metadata": {},
   "outputs": [],
   "source": [
    "lst18=[]\n",
    "for name in thousand_artists[900:950]:\n",
    "    try:\n",
    "        lst18.append(getrequests(name))\n",
    "    except Exception as e:\n",
    "        continue\n",
    "len(lst18)"
   ]
  },
  {
   "cell_type": "code",
   "execution_count": null,
   "metadata": {},
   "outputs": [],
   "source": [
    "lst19=[]\n",
    "for name in thousand_artists[950:1000]:\n",
    "    try:\n",
    "        lst19.append(getrequests(name))\n",
    "    except Exception as e:\n",
    "        continue\n",
    "len(lst19)"
   ]
  },
  {
   "cell_type": "code",
   "execution_count": null,
   "metadata": {},
   "outputs": [],
   "source": [
    "lst20=[]\n",
    "for name in thousand_artists[1000:]:\n",
    "    try:\n",
    "        lst20.append(getrequests(name))\n",
    "    except Exception as e:\n",
    "        continue\n",
    "len(lst20)"
   ]
  },
  {
   "cell_type": "raw",
   "metadata": {},
   "source": [
    "capitulos = []\n",
    "for i in range(1, 10): \n",
    "    path = url + str(i)\n",
    "    r = requests.get(path)\n",
    "    capitulos.append(r.text)\n",
    "    \n",
    "# print(res)\n",
    "\n",
    "# por ejemplo el capítulo 1\n",
    "# capitulo1 = capitulos[0]\n",
    "# type(type(capitulo1))\n",
    "\n",
    "# jsn = json.loads(capitulo1)\n",
    "# print(jsn['name'])\n",
    "\n",
    "# almacenamos nombres de capítulos\n",
    "nombre_caps = []\n",
    "for c in capitulos: \n",
    "    jsn = json.loads(c)\n",
    "    nombre_caps.append(jsn['name'])\n",
    "\n",
    "print(nombre_caps)\n",
    "\n",
    "df = pd.DataFrame()\n",
    "df['names'] = nombre_caps\n",
    "display(df)"
   ]
  },
  {
   "cell_type": "code",
   "execution_count": null,
   "metadata": {},
   "outputs": [],
   "source": []
  }
 ],
 "metadata": {
  "kernelspec": {
   "display_name": "Python 3",
   "language": "python",
   "name": "python3"
  },
  "language_info": {
   "codemirror_mode": {
    "name": "ipython",
    "version": 3
   },
   "file_extension": ".py",
   "mimetype": "text/x-python",
   "name": "python",
   "nbconvert_exporter": "python",
   "pygments_lexer": "ipython3",
   "version": "3.7.2"
  }
 },
 "nbformat": 4,
 "nbformat_minor": 2
}
