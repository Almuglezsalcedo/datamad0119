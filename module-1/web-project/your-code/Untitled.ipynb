{
 "cells": [
  {
   "cell_type": "code",
   "execution_count": 90,
   "metadata": {},
   "outputs": [],
   "source": [
    "import requests\n",
    "import json\n",
    "import pandas as pd\n",
    "\n"
   ]
  },
  {
   "cell_type": "code",
   "execution_count": 96,
   "metadata": {},
   "outputs": [
    {
     "data": {
      "text/plain": [
       "[[{'page': 1, 'pages': 1, 'per_page': '50', 'total': 1},\n",
       "  [{'id': 'BRA',\n",
       "    'iso2Code': 'BR',\n",
       "    'name': 'Brazil',\n",
       "    'region': {'id': 'LCN',\n",
       "     'iso2code': 'ZJ',\n",
       "     'value': 'Latin America & Caribbean '},\n",
       "    'adminregion': {'id': 'LAC',\n",
       "     'iso2code': 'XJ',\n",
       "     'value': 'Latin America & Caribbean (excluding high income)'},\n",
       "    'incomeLevel': {'id': 'UMC',\n",
       "     'iso2code': 'XT',\n",
       "     'value': 'Upper middle income'},\n",
       "    'lendingType': {'id': 'IBD', 'iso2code': 'XF', 'value': 'IBRD'},\n",
       "    'capitalCity': 'Brasilia',\n",
       "    'longitude': '-47.9292',\n",
       "    'latitude': '-15.7801'}]],\n",
       " [{'page': 1, 'pages': 1, 'per_page': '50', 'total': 1},\n",
       "  [{'id': 'ESP',\n",
       "    'iso2Code': 'ES',\n",
       "    'name': 'Spain',\n",
       "    'region': {'id': 'ECS',\n",
       "     'iso2code': 'Z7',\n",
       "     'value': 'Europe & Central Asia'},\n",
       "    'adminregion': {'id': '', 'iso2code': '', 'value': ''},\n",
       "    'incomeLevel': {'id': 'HIC', 'iso2code': 'XD', 'value': 'High income'},\n",
       "    'lendingType': {'id': 'LNX', 'iso2code': 'XX', 'value': 'Not classified'},\n",
       "    'capitalCity': 'Madrid',\n",
       "    'longitude': '-3.70327',\n",
       "    'latitude': '40.4167'}]]]"
      ]
     },
     "execution_count": 96,
     "metadata": {},
     "output_type": "execute_result"
    }
   ],
   "source": [
    "path=[]\n",
    "code=['br','es']\n",
    "for i in code:\n",
    "    url='http://api.worldbank.org/v2/country/{}?format=json'.format(i)\n",
    "    r=requests.get(url)\n",
    "    path.append(r.text)\n",
    "total=[]\n",
    "for c in path: \n",
    "    jsn = json.loads(c)\n",
    "    total.append(jsn)\n",
    "total\n",
    "\n"
   ]
  },
  {
   "cell_type": "raw",
   "metadata": {},
   "source": [
    "capitulos = []\n",
    "for i in range(1, 10): \n",
    "    path = url + str(i)\n",
    "    r = requests.get(path)\n",
    "    capitulos.append(r.text)\n",
    "    \n",
    "# print(res)\n",
    "\n",
    "# por ejemplo el capítulo 1\n",
    "# capitulo1 = capitulos[0]\n",
    "# type(type(capitulo1))\n",
    "\n",
    "# jsn = json.loads(capitulo1)\n",
    "# print(jsn['name'])\n",
    "\n",
    "# almacenamos nombres de capítulos\n",
    "nombre_caps = []\n",
    "for c in capitulos: \n",
    "    jsn = json.loads(c)\n",
    "    nombre_caps.append(jsn['name'])\n",
    "\n",
    "print(nombre_caps)\n",
    "\n",
    "df = pd.DataFrame()\n",
    "df['names'] = nombre_caps\n",
    "display(df)"
   ]
  },
  {
   "cell_type": "code",
   "execution_count": null,
   "metadata": {},
   "outputs": [],
   "source": []
  }
 ],
 "metadata": {
  "kernelspec": {
   "display_name": "Python 3",
   "language": "python",
   "name": "python3"
  },
  "language_info": {
   "codemirror_mode": {
    "name": "ipython",
    "version": 3
   },
   "file_extension": ".py",
   "mimetype": "text/x-python",
   "name": "python",
   "nbconvert_exporter": "python",
   "pygments_lexer": "ipython3",
   "version": "3.7.2"
  }
 },
 "nbformat": 4,
 "nbformat_minor": 2
}
