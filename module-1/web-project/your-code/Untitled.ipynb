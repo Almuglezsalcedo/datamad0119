{
 "cells": [
  {
   "cell_type": "markdown",
   "metadata": {},
   "source": [
    "# Web Project"
   ]
  },
  {
   "cell_type": "code",
   "execution_count": null,
   "metadata": {},
   "outputs": [],
   "source": []
  },
  {
   "cell_type": "markdown",
   "metadata": {},
   "source": [
    "## 1. Web scraping"
   ]
  },
  {
   "cell_type": "markdown",
   "metadata": {},
   "source": [
    "### La página que utilicé es una web de música que tiene informacíon sobre diferentes artistas y que se encuentra dividida entre otras cosas por género. Para sacar la información creé varias funciones: \n",
    "### 1. para realizar plas peticiones request\n",
    "### 2. para limpiar la información ya que había saltos de página y necesitaba que si el artista estaba separado por espacios, estos se reemplazaran con el signo + para poder usarlos posteriormente con la api.\n",
    "### 3. para crear una lista donde se fueran agragando todos los artistas.\n",
    "### Finalmente con un loop realicé todas las peticiones. Usé una url para cada género de música, 20 en total, y conseguí un listado con 1065 artistas. "
   ]
  },
  {
   "cell_type": "markdown",
   "metadata": {},
   "source": [
    "## 2. API"
   ]
  },
  {
   "cell_type": "markdown",
   "metadata": {},
   "source": [
    "### La API que utilicé fue Itunes Search Api. EL obejetivo era con la lista de artistas que había conseguido haciendo web scraping, hacer una dataframe con informacion adicional de cada artista proporcionada por la api. Cree dos peticiones, solicitandole inf ode los artistas en dos bloques de 500 y en esa misma petición le especifiqué los campos que necesitaba: album, canción, precio del album, etc. La información que recibía la guardaba en una lista mediante un try and catch por si no encontraba datos de un artista para que pasara al siguiente y no diera error. "
   ]
  },
  {
   "cell_type": "markdown",
   "metadata": {},
   "source": [
    "### Finalmente cree un DataFrame y lo exporté a un fichero Jason."
   ]
  },
  {
   "cell_type": "markdown",
   "metadata": {},
   "source": [
    "### Enlace página web: "
   ]
  },
  {
   "cell_type": "markdown",
   "metadata": {},
   "source": [
    "#### https://www.allmusic.com/"
   ]
  },
  {
   "cell_type": "markdown",
   "metadata": {},
   "source": [
    "### Enlace api:"
   ]
  },
  {
   "cell_type": "markdown",
   "metadata": {},
   "source": [
    "#### https://affiliate.itunes.apple.com/resources/documentation/itunes-store-web-service-search-api/"
   ]
  },
  {
   "cell_type": "code",
   "execution_count": null,
   "metadata": {},
   "outputs": [],
   "source": []
  }
 ],
 "metadata": {
  "kernelspec": {
   "display_name": "Python 3",
   "language": "python",
   "name": "python3"
  },
  "language_info": {
   "codemirror_mode": {
    "name": "ipython",
    "version": 3
   },
   "file_extension": ".py",
   "mimetype": "text/x-python",
   "name": "python",
   "nbconvert_exporter": "python",
   "pygments_lexer": "ipython3",
   "version": "3.7.2"
  }
 },
 "nbformat": 4,
 "nbformat_minor": 2
}
